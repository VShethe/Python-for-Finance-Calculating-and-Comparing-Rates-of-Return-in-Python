{
 "cells": [
  {
   "cell_type": "markdown",
   "id": "82edc2d3",
   "metadata": {},
   "source": [
    "### Calculating a Portfolio of Securities' Rate of Return\n"
   ]
  },
  {
   "cell_type": "code",
   "execution_count": 4,
   "id": "fe32ed51",
   "metadata": {},
   "outputs": [],
   "source": [
    "import numpy as np\n",
    "import pandas as pd\n",
    "import matplotlib.pyplot as plt\n",
    "from datetime import datetime\n",
    "from pandas_datareader import data as wb"
   ]
  },
  {
   "cell_type": "code",
   "execution_count": 12,
   "id": "d3460b8f",
   "metadata": {},
   "outputs": [],
   "source": [
    "from iexfinance.stocks import Stock, get_historical_data\n",
    "\n",
    "start = datetime(2018, 1, 1)\n",
    "end = datetime(2023, 3, 23)\n",
    "\n",
    "api_key = 'pk_6083fdda34d8496a8401a87232578e3f'"
   ]
  },
  {
   "cell_type": "code",
   "execution_count": 13,
   "id": "26d0054b",
   "metadata": {},
   "outputs": [],
   "source": [
    "tickers = ['PG', 'MSFT', 'F', 'GE']\n",
    "mydata = pd.DataFrame()\n",
    "for t in tickers:\n",
    "    mydata[t] = get_historical_data(t, start, end, output_format = 'pandas', token=api_key)['close']"
   ]
  },
  {
   "cell_type": "code",
   "execution_count": 14,
   "id": "a439dd56",
   "metadata": {},
   "outputs": [
    {
     "name": "stdout",
     "output_type": "stream",
     "text": [
      "<class 'pandas.core.frame.DataFrame'>\n",
      "DatetimeIndex: 1315 entries, 2018-01-02 to 2023-03-23\n",
      "Data columns (total 4 columns):\n",
      " #   Column  Non-Null Count  Dtype \n",
      "---  ------  --------------  ----- \n",
      " 0   PG      1315 non-null   object\n",
      " 1   MSFT    1315 non-null   object\n",
      " 2   F       1315 non-null   object\n",
      " 3   GE      1315 non-null   object\n",
      "dtypes: object(4)\n",
      "memory usage: 51.4+ KB\n"
     ]
    }
   ],
   "source": [
    "mydata.info()"
   ]
  },
  {
   "cell_type": "code",
   "execution_count": 15,
   "id": "a3b23543",
   "metadata": {},
   "outputs": [
    {
     "data": {
      "text/html": [
       "<div>\n",
       "<style scoped>\n",
       "    .dataframe tbody tr th:only-of-type {\n",
       "        vertical-align: middle;\n",
       "    }\n",
       "\n",
       "    .dataframe tbody tr th {\n",
       "        vertical-align: top;\n",
       "    }\n",
       "\n",
       "    .dataframe thead th {\n",
       "        text-align: right;\n",
       "    }\n",
       "</style>\n",
       "<table border=\"1\" class=\"dataframe\">\n",
       "  <thead>\n",
       "    <tr style=\"text-align: right;\">\n",
       "      <th></th>\n",
       "      <th>PG</th>\n",
       "      <th>MSFT</th>\n",
       "      <th>F</th>\n",
       "      <th>GE</th>\n",
       "    </tr>\n",
       "  </thead>\n",
       "  <tbody>\n",
       "    <tr>\n",
       "      <th>2018-01-02</th>\n",
       "      <td>90.65</td>\n",
       "      <td>85.95</td>\n",
       "      <td>12.66</td>\n",
       "      <td>108.894</td>\n",
       "    </tr>\n",
       "    <tr>\n",
       "      <th>2018-01-03</th>\n",
       "      <td>90.54</td>\n",
       "      <td>86.35</td>\n",
       "      <td>12.76</td>\n",
       "      <td>109.924</td>\n",
       "    </tr>\n",
       "    <tr>\n",
       "      <th>2018-01-04</th>\n",
       "      <td>91.18</td>\n",
       "      <td>87.11</td>\n",
       "      <td>12.98</td>\n",
       "      <td>112.226</td>\n",
       "    </tr>\n",
       "    <tr>\n",
       "      <th>2018-01-05</th>\n",
       "      <td>91.24</td>\n",
       "      <td>88.19</td>\n",
       "      <td>13.2</td>\n",
       "      <td>112.286</td>\n",
       "    </tr>\n",
       "    <tr>\n",
       "      <th>2018-01-08</th>\n",
       "      <td>91.72</td>\n",
       "      <td>88.28</td>\n",
       "      <td>13.15</td>\n",
       "      <td>110.711</td>\n",
       "    </tr>\n",
       "  </tbody>\n",
       "</table>\n",
       "</div>"
      ],
      "text/plain": [
       "               PG   MSFT      F       GE\n",
       "2018-01-02  90.65  85.95  12.66  108.894\n",
       "2018-01-03  90.54  86.35  12.76  109.924\n",
       "2018-01-04  91.18  87.11  12.98  112.226\n",
       "2018-01-05  91.24  88.19   13.2  112.286\n",
       "2018-01-08  91.72  88.28  13.15  110.711"
      ]
     },
     "execution_count": 15,
     "metadata": {},
     "output_type": "execute_result"
    }
   ],
   "source": [
    "mydata.head()"
   ]
  },
  {
   "cell_type": "code",
   "execution_count": 16,
   "id": "433e0520",
   "metadata": {},
   "outputs": [
    {
     "data": {
      "text/html": [
       "<div>\n",
       "<style scoped>\n",
       "    .dataframe tbody tr th:only-of-type {\n",
       "        vertical-align: middle;\n",
       "    }\n",
       "\n",
       "    .dataframe tbody tr th {\n",
       "        vertical-align: top;\n",
       "    }\n",
       "\n",
       "    .dataframe thead th {\n",
       "        text-align: right;\n",
       "    }\n",
       "</style>\n",
       "<table border=\"1\" class=\"dataframe\">\n",
       "  <thead>\n",
       "    <tr style=\"text-align: right;\">\n",
       "      <th></th>\n",
       "      <th>PG</th>\n",
       "      <th>MSFT</th>\n",
       "      <th>F</th>\n",
       "      <th>GE</th>\n",
       "    </tr>\n",
       "  </thead>\n",
       "  <tbody>\n",
       "    <tr>\n",
       "      <th>2023-03-17</th>\n",
       "      <td>142.93</td>\n",
       "      <td>279.43</td>\n",
       "      <td>11.3</td>\n",
       "      <td>90.29</td>\n",
       "    </tr>\n",
       "    <tr>\n",
       "      <th>2023-03-20</th>\n",
       "      <td>145.13</td>\n",
       "      <td>272.23</td>\n",
       "      <td>11.18</td>\n",
       "      <td>89.92</td>\n",
       "    </tr>\n",
       "    <tr>\n",
       "      <th>2023-03-21</th>\n",
       "      <td>144.08</td>\n",
       "      <td>273.78</td>\n",
       "      <td>11.72</td>\n",
       "      <td>92.18</td>\n",
       "    </tr>\n",
       "    <tr>\n",
       "      <th>2023-03-22</th>\n",
       "      <td>143.99</td>\n",
       "      <td>272.29</td>\n",
       "      <td>11.48</td>\n",
       "      <td>89.59</td>\n",
       "    </tr>\n",
       "    <tr>\n",
       "      <th>2023-03-23</th>\n",
       "      <td>143.79</td>\n",
       "      <td>277.66</td>\n",
       "      <td>11.42</td>\n",
       "      <td>91.59</td>\n",
       "    </tr>\n",
       "  </tbody>\n",
       "</table>\n",
       "</div>"
      ],
      "text/plain": [
       "                PG    MSFT      F     GE\n",
       "2023-03-17  142.93  279.43   11.3  90.29\n",
       "2023-03-20  145.13  272.23  11.18  89.92\n",
       "2023-03-21  144.08  273.78  11.72  92.18\n",
       "2023-03-22  143.99  272.29  11.48  89.59\n",
       "2023-03-23  143.79  277.66  11.42  91.59"
      ]
     },
     "execution_count": 16,
     "metadata": {},
     "output_type": "execute_result"
    }
   ],
   "source": [
    "mydata.tail()"
   ]
  },
  {
   "cell_type": "markdown",
   "id": "56b1b1a5",
   "metadata": {},
   "source": [
    "### Normalization to 100:\n",
    "\n",
    "$$\n",
    "\\frac {P_t}{P_0} * 100\n",
    "$$"
   ]
  },
  {
   "cell_type": "code",
   "execution_count": 17,
   "id": "2f89dc2e",
   "metadata": {},
   "outputs": [
    {
     "data": {
      "text/plain": [
       "PG        90.65\n",
       "MSFT      85.95\n",
       "F         12.66\n",
       "GE      108.894\n",
       "Name: 2018-01-02 00:00:00, dtype: object"
      ]
     },
     "execution_count": 17,
     "metadata": {},
     "output_type": "execute_result"
    }
   ],
   "source": [
    "mydata.iloc[0]"
   ]
  },
  {
   "cell_type": "code",
   "execution_count": 18,
   "id": "88f40e1b",
   "metadata": {},
   "outputs": [
    {
     "data": {
      "text/html": [
       "<div>\n",
       "<style scoped>\n",
       "    .dataframe tbody tr th:only-of-type {\n",
       "        vertical-align: middle;\n",
       "    }\n",
       "\n",
       "    .dataframe tbody tr th {\n",
       "        vertical-align: top;\n",
       "    }\n",
       "\n",
       "    .dataframe thead th {\n",
       "        text-align: right;\n",
       "    }\n",
       "</style>\n",
       "<table border=\"1\" class=\"dataframe\">\n",
       "  <thead>\n",
       "    <tr style=\"text-align: right;\">\n",
       "      <th></th>\n",
       "      <th>PG</th>\n",
       "      <th>MSFT</th>\n",
       "      <th>F</th>\n",
       "      <th>GE</th>\n",
       "    </tr>\n",
       "  </thead>\n",
       "  <tbody>\n",
       "    <tr>\n",
       "      <th>2018-01-02</th>\n",
       "      <td>100.0</td>\n",
       "      <td>100.0</td>\n",
       "      <td>100.0</td>\n",
       "      <td>100.0</td>\n",
       "    </tr>\n",
       "    <tr>\n",
       "      <th>2018-01-03</th>\n",
       "      <td>99.878654</td>\n",
       "      <td>100.465387</td>\n",
       "      <td>100.789889</td>\n",
       "      <td>100.945874</td>\n",
       "    </tr>\n",
       "    <tr>\n",
       "      <th>2018-01-04</th>\n",
       "      <td>100.584666</td>\n",
       "      <td>101.349622</td>\n",
       "      <td>102.527646</td>\n",
       "      <td>103.059856</td>\n",
       "    </tr>\n",
       "    <tr>\n",
       "      <th>2018-01-05</th>\n",
       "      <td>100.650855</td>\n",
       "      <td>102.606166</td>\n",
       "      <td>104.265403</td>\n",
       "      <td>103.114956</td>\n",
       "    </tr>\n",
       "    <tr>\n",
       "      <th>2018-01-08</th>\n",
       "      <td>101.180364</td>\n",
       "      <td>102.710878</td>\n",
       "      <td>103.870458</td>\n",
       "      <td>101.668595</td>\n",
       "    </tr>\n",
       "    <tr>\n",
       "      <th>...</th>\n",
       "      <td>...</td>\n",
       "      <td>...</td>\n",
       "      <td>...</td>\n",
       "      <td>...</td>\n",
       "    </tr>\n",
       "    <tr>\n",
       "      <th>2023-03-17</th>\n",
       "      <td>157.672366</td>\n",
       "      <td>325.107621</td>\n",
       "      <td>89.257504</td>\n",
       "      <td>82.915496</td>\n",
       "    </tr>\n",
       "    <tr>\n",
       "      <th>2023-03-20</th>\n",
       "      <td>160.099283</td>\n",
       "      <td>316.730657</td>\n",
       "      <td>88.309637</td>\n",
       "      <td>82.575716</td>\n",
       "    </tr>\n",
       "    <tr>\n",
       "      <th>2023-03-21</th>\n",
       "      <td>158.940982</td>\n",
       "      <td>318.534031</td>\n",
       "      <td>92.575039</td>\n",
       "      <td>84.651129</td>\n",
       "    </tr>\n",
       "    <tr>\n",
       "      <th>2023-03-22</th>\n",
       "      <td>158.841699</td>\n",
       "      <td>316.800465</td>\n",
       "      <td>90.679305</td>\n",
       "      <td>82.272669</td>\n",
       "    </tr>\n",
       "    <tr>\n",
       "      <th>2023-03-23</th>\n",
       "      <td>158.62107</td>\n",
       "      <td>323.048284</td>\n",
       "      <td>90.205371</td>\n",
       "      <td>84.109317</td>\n",
       "    </tr>\n",
       "  </tbody>\n",
       "</table>\n",
       "<p>1315 rows × 4 columns</p>\n",
       "</div>"
      ],
      "text/plain": [
       "                    PG        MSFT           F          GE\n",
       "2018-01-02       100.0       100.0       100.0       100.0\n",
       "2018-01-03   99.878654  100.465387  100.789889  100.945874\n",
       "2018-01-04  100.584666  101.349622  102.527646  103.059856\n",
       "2018-01-05  100.650855  102.606166  104.265403  103.114956\n",
       "2018-01-08  101.180364  102.710878  103.870458  101.668595\n",
       "...                ...         ...         ...         ...\n",
       "2023-03-17  157.672366  325.107621   89.257504   82.915496\n",
       "2023-03-20  160.099283  316.730657   88.309637   82.575716\n",
       "2023-03-21  158.940982  318.534031   92.575039   84.651129\n",
       "2023-03-22  158.841699  316.800465   90.679305   82.272669\n",
       "2023-03-23   158.62107  323.048284   90.205371   84.109317\n",
       "\n",
       "[1315 rows x 4 columns]"
      ]
     },
     "execution_count": 18,
     "metadata": {},
     "output_type": "execute_result"
    }
   ],
   "source": [
    "(mydata/ mydata.iloc[0]*100)"
   ]
  },
  {
   "cell_type": "code",
   "execution_count": 20,
   "id": "fced5848",
   "metadata": {},
   "outputs": [
    {
     "data": {
      "image/png": "[encoded data removed]",
      "text/plain": [
       "<Figure size 1000x500 with 1 Axes>"
      ]
     },
     "metadata": {},
     "output_type": "display_data"
    }
   ],
   "source": [
    "(mydata/ mydata.iloc[0]*100).plot(figsize=(10, 5));\n",
    "plt.show()"
   ]
  },
  {
   "cell_type": "markdown",
   "id": "0be7e763",
   "metadata": {},
   "source": [
    "## Calculating the Return of a Portfolio of Securities"
   ]
  },
  {
   "cell_type": "code",
   "execution_count": 21,
   "id": "8652a055",
   "metadata": {},
   "outputs": [
    {
     "data": {
      "text/html": [
       "<div>\n",
       "<style scoped>\n",
       "    .dataframe tbody tr th:only-of-type {\n",
       "        vertical-align: middle;\n",
       "    }\n",
       "\n",
       "    .dataframe tbody tr th {\n",
       "        vertical-align: top;\n",
       "    }\n",
       "\n",
       "    .dataframe thead th {\n",
       "        text-align: right;\n",
       "    }\n",
       "</style>\n",
       "<table border=\"1\" class=\"dataframe\">\n",
       "  <thead>\n",
       "    <tr style=\"text-align: right;\">\n",
       "      <th></th>\n",
       "      <th>PG</th>\n",
       "      <th>MSFT</th>\n",
       "      <th>F</th>\n",
       "      <th>GE</th>\n",
       "    </tr>\n",
       "  </thead>\n",
       "  <tbody>\n",
       "    <tr>\n",
       "      <th>2018-01-02</th>\n",
       "      <td>NaN</td>\n",
       "      <td>NaN</td>\n",
       "      <td>NaN</td>\n",
       "      <td>NaN</td>\n",
       "    </tr>\n",
       "    <tr>\n",
       "      <th>2018-01-03</th>\n",
       "      <td>-0.001213</td>\n",
       "      <td>0.004654</td>\n",
       "      <td>0.007899</td>\n",
       "      <td>0.009459</td>\n",
       "    </tr>\n",
       "    <tr>\n",
       "      <th>2018-01-04</th>\n",
       "      <td>0.007069</td>\n",
       "      <td>0.008801</td>\n",
       "      <td>0.017241</td>\n",
       "      <td>0.020942</td>\n",
       "    </tr>\n",
       "    <tr>\n",
       "      <th>2018-01-05</th>\n",
       "      <td>0.000658</td>\n",
       "      <td>0.012398</td>\n",
       "      <td>0.016949</td>\n",
       "      <td>0.000535</td>\n",
       "    </tr>\n",
       "    <tr>\n",
       "      <th>2018-01-08</th>\n",
       "      <td>0.005261</td>\n",
       "      <td>0.001021</td>\n",
       "      <td>-0.003788</td>\n",
       "      <td>-0.014027</td>\n",
       "    </tr>\n",
       "    <tr>\n",
       "      <th>...</th>\n",
       "      <td>...</td>\n",
       "      <td>...</td>\n",
       "      <td>...</td>\n",
       "      <td>...</td>\n",
       "    </tr>\n",
       "    <tr>\n",
       "      <th>2023-03-17</th>\n",
       "      <td>0.000280</td>\n",
       "      <td>0.011694</td>\n",
       "      <td>-0.043993</td>\n",
       "      <td>-0.018267</td>\n",
       "    </tr>\n",
       "    <tr>\n",
       "      <th>2023-03-20</th>\n",
       "      <td>0.015392</td>\n",
       "      <td>-0.025767</td>\n",
       "      <td>-0.010619</td>\n",
       "      <td>-0.004098</td>\n",
       "    </tr>\n",
       "    <tr>\n",
       "      <th>2023-03-21</th>\n",
       "      <td>-0.007235</td>\n",
       "      <td>0.005694</td>\n",
       "      <td>0.048301</td>\n",
       "      <td>0.025133</td>\n",
       "    </tr>\n",
       "    <tr>\n",
       "      <th>2023-03-22</th>\n",
       "      <td>-0.000625</td>\n",
       "      <td>-0.005442</td>\n",
       "      <td>-0.020478</td>\n",
       "      <td>-0.028097</td>\n",
       "    </tr>\n",
       "    <tr>\n",
       "      <th>2023-03-23</th>\n",
       "      <td>-0.001389</td>\n",
       "      <td>0.019722</td>\n",
       "      <td>-0.005226</td>\n",
       "      <td>0.022324</td>\n",
       "    </tr>\n",
       "  </tbody>\n",
       "</table>\n",
       "<p>1315 rows × 4 columns</p>\n",
       "</div>"
      ],
      "text/plain": [
       "                  PG      MSFT         F        GE\n",
       "2018-01-02       NaN       NaN       NaN       NaN\n",
       "2018-01-03 -0.001213  0.004654  0.007899  0.009459\n",
       "2018-01-04  0.007069  0.008801  0.017241  0.020942\n",
       "2018-01-05  0.000658  0.012398  0.016949  0.000535\n",
       "2018-01-08  0.005261  0.001021 -0.003788 -0.014027\n",
       "...              ...       ...       ...       ...\n",
       "2023-03-17  0.000280  0.011694 -0.043993 -0.018267\n",
       "2023-03-20  0.015392 -0.025767 -0.010619 -0.004098\n",
       "2023-03-21 -0.007235  0.005694  0.048301  0.025133\n",
       "2023-03-22 -0.000625 -0.005442 -0.020478 -0.028097\n",
       "2023-03-23 -0.001389  0.019722 -0.005226  0.022324\n",
       "\n",
       "[1315 rows x 4 columns]"
      ]
     },
     "execution_count": 21,
     "metadata": {},
     "output_type": "execute_result"
    }
   ],
   "source": [
    "simple_returns = (mydata / mydata.shift(1)) - 1\n",
    "returns = simple_returns.astype('float64')\n",
    "returns"
   ]
  },
  {
   "cell_type": "markdown",
   "id": "5cc9294f",
   "metadata": {},
   "source": [
    "##### Equal Weights"
   ]
  },
  {
   "cell_type": "code",
   "execution_count": 51,
   "id": "050c638f",
   "metadata": {},
   "outputs": [],
   "source": [
    "weights_1 = np.array([0.25, 0.25, 0.25, 0.25])"
   ]
  },
  {
   "cell_type": "code",
   "execution_count": 61,
   "id": "6873b812",
   "metadata": {},
   "outputs": [
    {
     "data": {
      "text/plain": [
       "array([        nan,  0.00519951,  0.0135133 , ...,  0.0179732 ,\n",
       "       -0.0136605 ,  0.00885752])"
      ]
     },
     "execution_count": 61,
     "metadata": {},
     "output_type": "execute_result"
    }
   ],
   "source": [
    "np.dot(returns, weights_1)"
   ]
  },
  {
   "cell_type": "code",
   "execution_count": 62,
   "id": "647c0949",
   "metadata": {},
   "outputs": [
    {
     "data": {
      "text/plain": [
       "PG      0.111221\n",
       "MSFT    0.271071\n",
       "F       0.068010\n",
       "GE      0.059399\n",
       "dtype: float64"
      ]
     },
     "execution_count": 62,
     "metadata": {},
     "output_type": "execute_result"
    }
   ],
   "source": [
    "annual_returns = returns.mean()*250\n",
    "annual_returns"
   ]
  },
  {
   "cell_type": "code",
   "execution_count": 64,
   "id": "ae2aa18e",
   "metadata": {},
   "outputs": [
    {
     "data": {
      "text/plain": [
       "0.12743"
      ]
     },
     "execution_count": 64,
     "metadata": {},
     "output_type": "execute_result"
    }
   ],
   "source": [
    "round(np.dot(annual_returns, weights_1),5)"
   ]
  },
  {
   "cell_type": "code",
   "execution_count": 59,
   "id": "e0ebe7ca",
   "metadata": {},
   "outputs": [
    {
     "name": "stdout",
     "output_type": "stream",
     "text": [
      "12.740000000000002%\n"
     ]
    }
   ],
   "source": [
    "pfolio_1 = str(round(np.dot(annual_returns, weights),4)*100) + '%'\n",
    "print (pfolio_1)"
   ]
  },
  {
   "cell_type": "markdown",
   "id": "dea75f03",
   "metadata": {},
   "source": [
    "##### Unequal Weights"
   ]
  },
  {
   "cell_type": "code",
   "execution_count": 29,
   "id": "6699fded",
   "metadata": {},
   "outputs": [],
   "source": [
    "weights_2 = np.array([0.4, 0.4, 0.15, 0.05])"
   ]
  },
  {
   "cell_type": "code",
   "execution_count": 47,
   "id": "eecab188",
   "metadata": {},
   "outputs": [
    {
     "data": {
      "text/plain": [
       "0.1661"
      ]
     },
     "execution_count": 47,
     "metadata": {},
     "output_type": "execute_result"
    }
   ],
   "source": [
    "round(np.dot(annual_returns, weights_2),4)"
   ]
  },
  {
   "cell_type": "code",
   "execution_count": 58,
   "id": "f3891768",
   "metadata": {},
   "outputs": [
    {
     "name": "stdout",
     "output_type": "stream",
     "text": [
      "16.61%\n"
     ]
    }
   ],
   "source": [
    "pfolio_2 = str(round(np.dot(annual_returns, weights_2),4)*100) + '%'\n",
    "print (pfolio_2)"
   ]
  },
  {
   "cell_type": "code",
   "execution_count": 45,
   "id": "981efb43",
   "metadata": {},
   "outputs": [
    {
     "name": "stdout",
     "output_type": "stream",
     "text": [
      "12.740000000000002%\n",
      "16.61%\n"
     ]
    }
   ],
   "source": [
    "print (pfolio_1)\n",
    "print (pfolio_2)"
   ]
  },
  {
   "cell_type": "code",
   "execution_count": null,
   "id": "50a9d6f5",
   "metadata": {},
   "outputs": [],
   "source": []
  }
 ],
 "metadata": {
  "kernelspec": {
   "display_name": "Python 3 (ipykernel)",
   "language": "python",
   "name": "python3"
  },
  "language_info": {
   "codemirror_mode": {
    "name": "ipython",
    "version": 3
   },
   "file_extension": ".py",
   "mimetype": "text/x-python",
   "name": "python",
   "nbconvert_exporter": "python",
   "pygments_lexer": "ipython3",
   "version": "3.9.13"
  }
 },
 "nbformat": 4,
 "nbformat_minor": 5
}
