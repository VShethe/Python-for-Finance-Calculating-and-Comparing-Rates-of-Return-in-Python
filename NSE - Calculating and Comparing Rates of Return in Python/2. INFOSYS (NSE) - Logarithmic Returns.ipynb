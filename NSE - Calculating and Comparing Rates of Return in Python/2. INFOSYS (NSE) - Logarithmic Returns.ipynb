{
 "cells": [
  {
   "cell_type": "markdown",
   "id": "02576aca",
   "metadata": {},
   "source": [
    "### INFOSYS (NSE) - Logarithmic Returns"
   ]
  },
  {
   "cell_type": "code",
   "execution_count": 3,
   "id": "bcd7c5d0",
   "metadata": {},
   "outputs": [],
   "source": [
    "import numpy as np\n",
    "import pandas as pd\n",
    "import nsepy as nse\n",
    "import matplotlib.pyplot as plt"
   ]
  },
  {
   "cell_type": "code",
   "execution_count": 4,
   "id": "bf33da0d",
   "metadata": {},
   "outputs": [],
   "source": [
    "from nsepy import get_history\n",
    "from datetime import date"
   ]
  },
  {
   "cell_type": "code",
   "execution_count": 5,
   "id": "241ff384",
   "metadata": {},
   "outputs": [
    {
     "data": {
      "text/html": [
       "<div>\n",
       "<style scoped>\n",
       "    .dataframe tbody tr th:only-of-type {\n",
       "        vertical-align: middle;\n",
       "    }\n",
       "\n",
       "    .dataframe tbody tr th {\n",
       "        vertical-align: top;\n",
       "    }\n",
       "\n",
       "    .dataframe thead th {\n",
       "        text-align: right;\n",
       "    }\n",
       "</style>\n",
       "<table border=\"1\" class=\"dataframe\">\n",
       "  <thead>\n",
       "    <tr style=\"text-align: right;\">\n",
       "      <th></th>\n",
       "      <th>Symbol</th>\n",
       "      <th>Series</th>\n",
       "      <th>Prev Close</th>\n",
       "      <th>Open</th>\n",
       "      <th>High</th>\n",
       "      <th>Low</th>\n",
       "      <th>Last</th>\n",
       "      <th>Close</th>\n",
       "      <th>VWAP</th>\n",
       "      <th>Volume</th>\n",
       "      <th>Turnover</th>\n",
       "      <th>Trades</th>\n",
       "      <th>Deliverable Volume</th>\n",
       "      <th>%Deliverble</th>\n",
       "    </tr>\n",
       "    <tr>\n",
       "      <th>Date</th>\n",
       "      <th></th>\n",
       "      <th></th>\n",
       "      <th></th>\n",
       "      <th></th>\n",
       "      <th></th>\n",
       "      <th></th>\n",
       "      <th></th>\n",
       "      <th></th>\n",
       "      <th></th>\n",
       "      <th></th>\n",
       "      <th></th>\n",
       "      <th></th>\n",
       "      <th></th>\n",
       "      <th></th>\n",
       "    </tr>\n",
       "  </thead>\n",
       "  <tbody>\n",
       "    <tr>\n",
       "      <th>2018-01-01</th>\n",
       "      <td>INFY</td>\n",
       "      <td>EQ</td>\n",
       "      <td>1042.05</td>\n",
       "      <td>1037.70</td>\n",
       "      <td>1044.50</td>\n",
       "      <td>1030.00</td>\n",
       "      <td>1032.15</td>\n",
       "      <td>1033.55</td>\n",
       "      <td>1036.23</td>\n",
       "      <td>2715670</td>\n",
       "      <td>2.814046e+14</td>\n",
       "      <td>65839</td>\n",
       "      <td>1776744</td>\n",
       "      <td>0.6543</td>\n",
       "    </tr>\n",
       "    <tr>\n",
       "      <th>2018-01-02</th>\n",
       "      <td>INFY</td>\n",
       "      <td>EQ</td>\n",
       "      <td>1033.55</td>\n",
       "      <td>1037.25</td>\n",
       "      <td>1042.00</td>\n",
       "      <td>1023.00</td>\n",
       "      <td>1028.30</td>\n",
       "      <td>1029.70</td>\n",
       "      <td>1031.43</td>\n",
       "      <td>3056124</td>\n",
       "      <td>3.152175e+14</td>\n",
       "      <td>122157</td>\n",
       "      <td>2066488</td>\n",
       "      <td>0.6762</td>\n",
       "    </tr>\n",
       "    <tr>\n",
       "      <th>2018-01-03</th>\n",
       "      <td>INFY</td>\n",
       "      <td>EQ</td>\n",
       "      <td>1029.70</td>\n",
       "      <td>1028.50</td>\n",
       "      <td>1031.60</td>\n",
       "      <td>1018.60</td>\n",
       "      <td>1022.00</td>\n",
       "      <td>1021.30</td>\n",
       "      <td>1022.55</td>\n",
       "      <td>3423276</td>\n",
       "      <td>3.500475e+14</td>\n",
       "      <td>132588</td>\n",
       "      <td>2428553</td>\n",
       "      <td>0.7094</td>\n",
       "    </tr>\n",
       "    <tr>\n",
       "      <th>2018-01-04</th>\n",
       "      <td>INFY</td>\n",
       "      <td>EQ</td>\n",
       "      <td>1021.30</td>\n",
       "      <td>1021.00</td>\n",
       "      <td>1021.00</td>\n",
       "      <td>1009.60</td>\n",
       "      <td>1015.00</td>\n",
       "      <td>1015.40</td>\n",
       "      <td>1014.48</td>\n",
       "      <td>4473807</td>\n",
       "      <td>4.538566e+14</td>\n",
       "      <td>81236</td>\n",
       "      <td>3101206</td>\n",
       "      <td>0.6932</td>\n",
       "    </tr>\n",
       "    <tr>\n",
       "      <th>2018-01-05</th>\n",
       "      <td>INFY</td>\n",
       "      <td>EQ</td>\n",
       "      <td>1015.40</td>\n",
       "      <td>1015.30</td>\n",
       "      <td>1026.40</td>\n",
       "      <td>1006.00</td>\n",
       "      <td>1014.25</td>\n",
       "      <td>1012.00</td>\n",
       "      <td>1012.92</td>\n",
       "      <td>5512988</td>\n",
       "      <td>5.584194e+14</td>\n",
       "      <td>134727</td>\n",
       "      <td>3907486</td>\n",
       "      <td>0.7088</td>\n",
       "    </tr>\n",
       "    <tr>\n",
       "      <th>...</th>\n",
       "      <td>...</td>\n",
       "      <td>...</td>\n",
       "      <td>...</td>\n",
       "      <td>...</td>\n",
       "      <td>...</td>\n",
       "      <td>...</td>\n",
       "      <td>...</td>\n",
       "      <td>...</td>\n",
       "      <td>...</td>\n",
       "      <td>...</td>\n",
       "      <td>...</td>\n",
       "      <td>...</td>\n",
       "      <td>...</td>\n",
       "      <td>...</td>\n",
       "    </tr>\n",
       "    <tr>\n",
       "      <th>2023-03-17</th>\n",
       "      <td>INFY</td>\n",
       "      <td>EQ</td>\n",
       "      <td>1404.10</td>\n",
       "      <td>1430.00</td>\n",
       "      <td>1442.90</td>\n",
       "      <td>1411.40</td>\n",
       "      <td>1423.65</td>\n",
       "      <td>1420.70</td>\n",
       "      <td>1426.69</td>\n",
       "      <td>9090018</td>\n",
       "      <td>1.296863e+15</td>\n",
       "      <td>221212</td>\n",
       "      <td>5975144</td>\n",
       "      <td>0.6573</td>\n",
       "    </tr>\n",
       "    <tr>\n",
       "      <th>2023-03-20</th>\n",
       "      <td>INFY</td>\n",
       "      <td>EQ</td>\n",
       "      <td>1420.70</td>\n",
       "      <td>1419.70</td>\n",
       "      <td>1419.70</td>\n",
       "      <td>1384.85</td>\n",
       "      <td>1406.00</td>\n",
       "      <td>1403.65</td>\n",
       "      <td>1399.76</td>\n",
       "      <td>8221829</td>\n",
       "      <td>1.150858e+15</td>\n",
       "      <td>258614</td>\n",
       "      <td>5744126</td>\n",
       "      <td>0.6986</td>\n",
       "    </tr>\n",
       "    <tr>\n",
       "      <th>2023-03-21</th>\n",
       "      <td>INFY</td>\n",
       "      <td>EQ</td>\n",
       "      <td>1403.65</td>\n",
       "      <td>1399.00</td>\n",
       "      <td>1405.00</td>\n",
       "      <td>1390.00</td>\n",
       "      <td>1392.00</td>\n",
       "      <td>1390.70</td>\n",
       "      <td>1394.66</td>\n",
       "      <td>8536755</td>\n",
       "      <td>1.190586e+15</td>\n",
       "      <td>311684</td>\n",
       "      <td>6571749</td>\n",
       "      <td>0.7698</td>\n",
       "    </tr>\n",
       "    <tr>\n",
       "      <th>2023-03-22</th>\n",
       "      <td>INFY</td>\n",
       "      <td>EQ</td>\n",
       "      <td>1390.70</td>\n",
       "      <td>1403.00</td>\n",
       "      <td>1407.25</td>\n",
       "      <td>1382.15</td>\n",
       "      <td>1390.70</td>\n",
       "      <td>1389.25</td>\n",
       "      <td>1389.72</td>\n",
       "      <td>8356487</td>\n",
       "      <td>1.161316e+15</td>\n",
       "      <td>245942</td>\n",
       "      <td>6236213</td>\n",
       "      <td>0.7463</td>\n",
       "    </tr>\n",
       "    <tr>\n",
       "      <th>2023-03-23</th>\n",
       "      <td>INFY</td>\n",
       "      <td>EQ</td>\n",
       "      <td>1389.25</td>\n",
       "      <td>1383.95</td>\n",
       "      <td>1383.95</td>\n",
       "      <td>1370.00</td>\n",
       "      <td>1376.05</td>\n",
       "      <td>1374.55</td>\n",
       "      <td>1376.21</td>\n",
       "      <td>7607718</td>\n",
       "      <td>1.046984e+15</td>\n",
       "      <td>339878</td>\n",
       "      <td>5801036</td>\n",
       "      <td>0.7625</td>\n",
       "    </tr>\n",
       "  </tbody>\n",
       "</table>\n",
       "<p>1296 rows × 14 columns</p>\n",
       "</div>"
      ],
      "text/plain": [
       "           Symbol Series  Prev Close     Open     High      Low     Last  \\\n",
       "Date                                                                       \n",
       "2018-01-01   INFY     EQ     1042.05  1037.70  1044.50  1030.00  1032.15   \n",
       "2018-01-02   INFY     EQ     1033.55  1037.25  1042.00  1023.00  1028.30   \n",
       "2018-01-03   INFY     EQ     1029.70  1028.50  1031.60  1018.60  1022.00   \n",
       "2018-01-04   INFY     EQ     1021.30  1021.00  1021.00  1009.60  1015.00   \n",
       "2018-01-05   INFY     EQ     1015.40  1015.30  1026.40  1006.00  1014.25   \n",
       "...           ...    ...         ...      ...      ...      ...      ...   \n",
       "2023-03-17   INFY     EQ     1404.10  1430.00  1442.90  1411.40  1423.65   \n",
       "2023-03-20   INFY     EQ     1420.70  1419.70  1419.70  1384.85  1406.00   \n",
       "2023-03-21   INFY     EQ     1403.65  1399.00  1405.00  1390.00  1392.00   \n",
       "2023-03-22   INFY     EQ     1390.70  1403.00  1407.25  1382.15  1390.70   \n",
       "2023-03-23   INFY     EQ     1389.25  1383.95  1383.95  1370.00  1376.05   \n",
       "\n",
       "              Close     VWAP   Volume      Turnover  Trades  \\\n",
       "Date                                                          \n",
       "2018-01-01  1033.55  1036.23  2715670  2.814046e+14   65839   \n",
       "2018-01-02  1029.70  1031.43  3056124  3.152175e+14  122157   \n",
       "2018-01-03  1021.30  1022.55  3423276  3.500475e+14  132588   \n",
       "2018-01-04  1015.40  1014.48  4473807  4.538566e+14   81236   \n",
       "2018-01-05  1012.00  1012.92  5512988  5.584194e+14  134727   \n",
       "...             ...      ...      ...           ...     ...   \n",
       "2023-03-17  1420.70  1426.69  9090018  1.296863e+15  221212   \n",
       "2023-03-20  1403.65  1399.76  8221829  1.150858e+15  258614   \n",
       "2023-03-21  1390.70  1394.66  8536755  1.190586e+15  311684   \n",
       "2023-03-22  1389.25  1389.72  8356487  1.161316e+15  245942   \n",
       "2023-03-23  1374.55  1376.21  7607718  1.046984e+15  339878   \n",
       "\n",
       "            Deliverable Volume  %Deliverble  \n",
       "Date                                         \n",
       "2018-01-01             1776744       0.6543  \n",
       "2018-01-02             2066488       0.6762  \n",
       "2018-01-03             2428553       0.7094  \n",
       "2018-01-04             3101206       0.6932  \n",
       "2018-01-05             3907486       0.7088  \n",
       "...                        ...          ...  \n",
       "2023-03-17             5975144       0.6573  \n",
       "2023-03-20             5744126       0.6986  \n",
       "2023-03-21             6571749       0.7698  \n",
       "2023-03-22             6236213       0.7463  \n",
       "2023-03-23             5801036       0.7625  \n",
       "\n",
       "[1296 rows x 14 columns]"
      ]
     },
     "execution_count": 5,
     "metadata": {},
     "output_type": "execute_result"
    }
   ],
   "source": [
    "INFY = nse.get_history(symbol = 'infy', index = False, start = date(2018, 1, 1), end = date(2023, 3, 23))\n",
    "INFY"
   ]
  },
  {
   "cell_type": "markdown",
   "id": "2d0f79b1",
   "metadata": {},
   "source": [
    "### Log Returns\n",
    "\n",
    "$$\n",
    "ln(\\frac{P_t}{P_{t-1}})\n",
    "$$\n"
   ]
  },
  {
   "cell_type": "code",
   "execution_count": 6,
   "id": "9d44cbe0",
   "metadata": {},
   "outputs": [
    {
     "name": "stdout",
     "output_type": "stream",
     "text": [
      "Date\n",
      "2018-01-01         NaN\n",
      "2018-01-02   -0.003732\n",
      "2018-01-03   -0.008191\n",
      "2018-01-04   -0.005794\n",
      "2018-01-05   -0.003354\n",
      "                ...   \n",
      "2023-03-17    0.011753\n",
      "2023-03-20   -0.012074\n",
      "2023-03-21   -0.009269\n",
      "2023-03-22   -0.001043\n",
      "2023-03-23   -0.010638\n",
      "Name: log_return, Length: 1296, dtype: float64\n"
     ]
    }
   ],
   "source": [
    "INFY['log_return'] = np.log(INFY['Close'] / INFY['Close'].shift(1))\n",
    "print (INFY['log_return'])"
   ]
  },
  {
   "cell_type": "code",
   "execution_count": 8,
   "id": "374b9946",
   "metadata": {},
   "outputs": [
    {
     "data": {
      "image/png": "[encoded data removed]",
      "text/plain": [
       "<Figure size 800x500 with 1 Axes>"
      ]
     },
     "metadata": {},
     "output_type": "display_data"
    }
   ],
   "source": [
    "INFY['log_return'].plot(figsize=(8, 5))\n",
    "plt.show()"
   ]
  },
  {
   "cell_type": "markdown",
   "id": "a3aa0619",
   "metadata": {},
   "source": [
    "### Calculate the average daily return"
   ]
  },
  {
   "cell_type": "code",
   "execution_count": 9,
   "id": "98748304",
   "metadata": {},
   "outputs": [
    {
     "data": {
      "text/plain": [
       "0.00022017523286698538"
      ]
     },
     "execution_count": 9,
     "metadata": {},
     "output_type": "execute_result"
    }
   ],
   "source": [
    "log_return_d = INFY['log_return'].mean()\n",
    "log_return_d"
   ]
  },
  {
   "cell_type": "markdown",
   "id": "100b4603",
   "metadata": {},
   "source": [
    "### Estimate the average annual return."
   ]
  },
  {
   "cell_type": "code",
   "execution_count": 10,
   "id": "d41d2770",
   "metadata": {},
   "outputs": [
    {
     "data": {
      "text/plain": [
       "0.05504380821674634"
      ]
     },
     "execution_count": 10,
     "metadata": {},
     "output_type": "execute_result"
    }
   ],
   "source": [
    "log_return_a = INFY['log_return'].mean() * 250\n",
    "log_return_a"
   ]
  },
  {
   "cell_type": "markdown",
   "id": "58ad45cc",
   "metadata": {},
   "source": [
    "Print the percentage version of the result as a float with 2 digits after the decimal point."
   ]
  },
  {
   "cell_type": "code",
   "execution_count": 12,
   "id": "107f8cb6",
   "metadata": {},
   "outputs": [
    {
     "name": "stdout",
     "output_type": "stream",
     "text": [
      "5.504 %\n"
     ]
    }
   ],
   "source": [
    "print (str(round(log_return_a, 5) * 100) + ' %')"
   ]
  },
  {
   "cell_type": "code",
   "execution_count": null,
   "id": "13b8ad87",
   "metadata": {},
   "outputs": [],
   "source": []
  }
 ],
 "metadata": {
  "kernelspec": {
   "display_name": "Python 3 (ipykernel)",
   "language": "python",
   "name": "python3"
  },
  "language_info": {
   "codemirror_mode": {
    "name": "ipython",
    "version": 3
   },
   "file_extension": ".py",
   "mimetype": "text/x-python",
   "name": "python",
   "nbconvert_exporter": "python",
   "pygments_lexer": "ipython3",
   "version": "3.9.13"
  }
 },
 "nbformat": 4,
 "nbformat_minor": 5
}
