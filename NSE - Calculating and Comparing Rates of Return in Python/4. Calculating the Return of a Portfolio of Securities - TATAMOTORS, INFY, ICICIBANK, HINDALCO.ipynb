{
 "cells": [
  {
   "cell_type": "markdown",
   "id": "e86247be",
   "metadata": {},
   "source": [
    "### Calculating the Return of a Portfolio of Securities - TATAMOTORS, INFY, ICICIBANK, HINDALCO"
   ]
  },
  {
   "cell_type": "code",
   "execution_count": 36,
   "id": "e216b08d",
   "metadata": {},
   "outputs": [],
   "source": [
    "import numpy as np\n",
    "import pandas as pd\n",
    "import nsepy as nse\n",
    "import matplotlib.pyplot as plt"
   ]
  },
  {
   "cell_type": "code",
   "execution_count": 37,
   "id": "bfb0317c",
   "metadata": {},
   "outputs": [],
   "source": [
    "from nsepy import get_history\n",
    "from datetime import date"
   ]
  },
  {
   "cell_type": "code",
   "execution_count": 38,
   "id": "3d140d3e",
   "metadata": {},
   "outputs": [],
   "source": [
    "tickers = ['TATAMOTORS', 'INFY', 'ICICIBANK', 'HINDALCO']\n",
    "mydata = pd.DataFrame()\n",
    "for t in tickers:\n",
    "    mydata[t] = nse.get_history(t, index = False, start = date(2018, 1, 1), end = date(2023, 3, 23))['Close']"
   ]
  },
  {
   "cell_type": "code",
   "execution_count": 39,
   "id": "a478598c",
   "metadata": {},
   "outputs": [
    {
     "data": {
      "text/html": [
       "<div>\n",
       "<style scoped>\n",
       "    .dataframe tbody tr th:only-of-type {\n",
       "        vertical-align: middle;\n",
       "    }\n",
       "\n",
       "    .dataframe tbody tr th {\n",
       "        vertical-align: top;\n",
       "    }\n",
       "\n",
       "    .dataframe thead th {\n",
       "        text-align: right;\n",
       "    }\n",
       "</style>\n",
       "<table border=\"1\" class=\"dataframe\">\n",
       "  <thead>\n",
       "    <tr style=\"text-align: right;\">\n",
       "      <th></th>\n",
       "      <th>TATAMOTORS</th>\n",
       "      <th>INFY</th>\n",
       "      <th>ICICIBANK</th>\n",
       "      <th>HINDALCO</th>\n",
       "    </tr>\n",
       "    <tr>\n",
       "      <th>Date</th>\n",
       "      <th></th>\n",
       "      <th></th>\n",
       "      <th></th>\n",
       "      <th></th>\n",
       "    </tr>\n",
       "  </thead>\n",
       "  <tbody>\n",
       "    <tr>\n",
       "      <th>2018-01-01</th>\n",
       "      <td>424.45</td>\n",
       "      <td>1033.55</td>\n",
       "      <td>310.30</td>\n",
       "      <td>271.15</td>\n",
       "    </tr>\n",
       "    <tr>\n",
       "      <th>2018-01-02</th>\n",
       "      <td>439.30</td>\n",
       "      <td>1029.70</td>\n",
       "      <td>309.70</td>\n",
       "      <td>271.90</td>\n",
       "    </tr>\n",
       "    <tr>\n",
       "      <th>2018-01-03</th>\n",
       "      <td>433.90</td>\n",
       "      <td>1021.30</td>\n",
       "      <td>315.00</td>\n",
       "      <td>276.50</td>\n",
       "    </tr>\n",
       "    <tr>\n",
       "      <th>2018-01-04</th>\n",
       "      <td>429.95</td>\n",
       "      <td>1015.40</td>\n",
       "      <td>314.70</td>\n",
       "      <td>279.80</td>\n",
       "    </tr>\n",
       "    <tr>\n",
       "      <th>2018-01-05</th>\n",
       "      <td>431.60</td>\n",
       "      <td>1012.00</td>\n",
       "      <td>312.90</td>\n",
       "      <td>276.40</td>\n",
       "    </tr>\n",
       "    <tr>\n",
       "      <th>...</th>\n",
       "      <td>...</td>\n",
       "      <td>...</td>\n",
       "      <td>...</td>\n",
       "      <td>...</td>\n",
       "    </tr>\n",
       "    <tr>\n",
       "      <th>2023-03-17</th>\n",
       "      <td>419.00</td>\n",
       "      <td>1420.70</td>\n",
       "      <td>836.25</td>\n",
       "      <td>396.70</td>\n",
       "    </tr>\n",
       "    <tr>\n",
       "      <th>2023-03-20</th>\n",
       "      <td>410.75</td>\n",
       "      <td>1403.65</td>\n",
       "      <td>836.45</td>\n",
       "      <td>385.75</td>\n",
       "    </tr>\n",
       "    <tr>\n",
       "      <th>2023-03-21</th>\n",
       "      <td>412.55</td>\n",
       "      <td>1390.70</td>\n",
       "      <td>852.40</td>\n",
       "      <td>388.55</td>\n",
       "    </tr>\n",
       "    <tr>\n",
       "      <th>2023-03-22</th>\n",
       "      <td>416.10</td>\n",
       "      <td>1389.25</td>\n",
       "      <td>860.20</td>\n",
       "      <td>392.75</td>\n",
       "    </tr>\n",
       "    <tr>\n",
       "      <th>2023-03-23</th>\n",
       "      <td>419.15</td>\n",
       "      <td>1374.55</td>\n",
       "      <td>855.45</td>\n",
       "      <td>398.80</td>\n",
       "    </tr>\n",
       "  </tbody>\n",
       "</table>\n",
       "<p>1296 rows × 4 columns</p>\n",
       "</div>"
      ],
      "text/plain": [
       "            TATAMOTORS     INFY  ICICIBANK  HINDALCO\n",
       "Date                                                \n",
       "2018-01-01      424.45  1033.55     310.30    271.15\n",
       "2018-01-02      439.30  1029.70     309.70    271.90\n",
       "2018-01-03      433.90  1021.30     315.00    276.50\n",
       "2018-01-04      429.95  1015.40     314.70    279.80\n",
       "2018-01-05      431.60  1012.00     312.90    276.40\n",
       "...                ...      ...        ...       ...\n",
       "2023-03-17      419.00  1420.70     836.25    396.70\n",
       "2023-03-20      410.75  1403.65     836.45    385.75\n",
       "2023-03-21      412.55  1390.70     852.40    388.55\n",
       "2023-03-22      416.10  1389.25     860.20    392.75\n",
       "2023-03-23      419.15  1374.55     855.45    398.80\n",
       "\n",
       "[1296 rows x 4 columns]"
      ]
     },
     "execution_count": 39,
     "metadata": {},
     "output_type": "execute_result"
    }
   ],
   "source": [
    "mydata"
   ]
  },
  {
   "cell_type": "code",
   "execution_count": 40,
   "id": "eaf67c06",
   "metadata": {},
   "outputs": [
    {
     "name": "stdout",
     "output_type": "stream",
     "text": [
      "<class 'pandas.core.frame.DataFrame'>\n",
      "Index: 1296 entries, 2018-01-01 to 2023-03-23\n",
      "Data columns (total 4 columns):\n",
      " #   Column      Non-Null Count  Dtype  \n",
      "---  ------      --------------  -----  \n",
      " 0   TATAMOTORS  1296 non-null   float64\n",
      " 1   INFY        1296 non-null   float64\n",
      " 2   ICICIBANK   1296 non-null   float64\n",
      " 3   HINDALCO    1296 non-null   float64\n",
      "dtypes: float64(4)\n",
      "memory usage: 50.6+ KB\n"
     ]
    }
   ],
   "source": [
    "mydata.info()"
   ]
  },
  {
   "cell_type": "markdown",
   "id": "36b62a27",
   "metadata": {},
   "source": [
    "### Normalization to 100:\n",
    "\n",
    "$$\n",
    "\\frac {P_t}{P_0} * 100\n",
    "$$"
   ]
  },
  {
   "cell_type": "code",
   "execution_count": 41,
   "id": "cc07b5c2",
   "metadata": {},
   "outputs": [
    {
     "data": {
      "text/html": [
       "<div>\n",
       "<style scoped>\n",
       "    .dataframe tbody tr th:only-of-type {\n",
       "        vertical-align: middle;\n",
       "    }\n",
       "\n",
       "    .dataframe tbody tr th {\n",
       "        vertical-align: top;\n",
       "    }\n",
       "\n",
       "    .dataframe thead th {\n",
       "        text-align: right;\n",
       "    }\n",
       "</style>\n",
       "<table border=\"1\" class=\"dataframe\">\n",
       "  <thead>\n",
       "    <tr style=\"text-align: right;\">\n",
       "      <th></th>\n",
       "      <th>TATAMOTORS</th>\n",
       "      <th>INFY</th>\n",
       "      <th>ICICIBANK</th>\n",
       "      <th>HINDALCO</th>\n",
       "    </tr>\n",
       "    <tr>\n",
       "      <th>Date</th>\n",
       "      <th></th>\n",
       "      <th></th>\n",
       "      <th></th>\n",
       "      <th></th>\n",
       "    </tr>\n",
       "  </thead>\n",
       "  <tbody>\n",
       "    <tr>\n",
       "      <th>2018-01-01</th>\n",
       "      <td>100.000000</td>\n",
       "      <td>100.000000</td>\n",
       "      <td>100.000000</td>\n",
       "      <td>100.000000</td>\n",
       "    </tr>\n",
       "    <tr>\n",
       "      <th>2018-01-02</th>\n",
       "      <td>103.498645</td>\n",
       "      <td>99.627497</td>\n",
       "      <td>99.806639</td>\n",
       "      <td>100.276600</td>\n",
       "    </tr>\n",
       "    <tr>\n",
       "      <th>2018-01-03</th>\n",
       "      <td>102.226411</td>\n",
       "      <td>98.814765</td>\n",
       "      <td>101.514663</td>\n",
       "      <td>101.973078</td>\n",
       "    </tr>\n",
       "    <tr>\n",
       "      <th>2018-01-04</th>\n",
       "      <td>101.295795</td>\n",
       "      <td>98.243917</td>\n",
       "      <td>101.417983</td>\n",
       "      <td>103.190116</td>\n",
       "    </tr>\n",
       "    <tr>\n",
       "      <th>2018-01-05</th>\n",
       "      <td>101.684533</td>\n",
       "      <td>97.914953</td>\n",
       "      <td>100.837899</td>\n",
       "      <td>101.936198</td>\n",
       "    </tr>\n",
       "    <tr>\n",
       "      <th>...</th>\n",
       "      <td>...</td>\n",
       "      <td>...</td>\n",
       "      <td>...</td>\n",
       "      <td>...</td>\n",
       "    </tr>\n",
       "    <tr>\n",
       "      <th>2023-03-17</th>\n",
       "      <td>98.715985</td>\n",
       "      <td>137.458275</td>\n",
       "      <td>269.497261</td>\n",
       "      <td>146.302784</td>\n",
       "    </tr>\n",
       "    <tr>\n",
       "      <th>2023-03-20</th>\n",
       "      <td>96.772294</td>\n",
       "      <td>135.808621</td>\n",
       "      <td>269.561714</td>\n",
       "      <td>142.264429</td>\n",
       "    </tr>\n",
       "    <tr>\n",
       "      <th>2023-03-21</th>\n",
       "      <td>97.196372</td>\n",
       "      <td>134.555658</td>\n",
       "      <td>274.701901</td>\n",
       "      <td>143.297068</td>\n",
       "    </tr>\n",
       "    <tr>\n",
       "      <th>2023-03-22</th>\n",
       "      <td>98.032748</td>\n",
       "      <td>134.415365</td>\n",
       "      <td>277.215598</td>\n",
       "      <td>144.846026</td>\n",
       "    </tr>\n",
       "    <tr>\n",
       "      <th>2023-03-23</th>\n",
       "      <td>98.751325</td>\n",
       "      <td>132.993082</td>\n",
       "      <td>275.684821</td>\n",
       "      <td>147.077264</td>\n",
       "    </tr>\n",
       "  </tbody>\n",
       "</table>\n",
       "<p>1296 rows × 4 columns</p>\n",
       "</div>"
      ],
      "text/plain": [
       "            TATAMOTORS        INFY   ICICIBANK    HINDALCO\n",
       "Date                                                      \n",
       "2018-01-01  100.000000  100.000000  100.000000  100.000000\n",
       "2018-01-02  103.498645   99.627497   99.806639  100.276600\n",
       "2018-01-03  102.226411   98.814765  101.514663  101.973078\n",
       "2018-01-04  101.295795   98.243917  101.417983  103.190116\n",
       "2018-01-05  101.684533   97.914953  100.837899  101.936198\n",
       "...                ...         ...         ...         ...\n",
       "2023-03-17   98.715985  137.458275  269.497261  146.302784\n",
       "2023-03-20   96.772294  135.808621  269.561714  142.264429\n",
       "2023-03-21   97.196372  134.555658  274.701901  143.297068\n",
       "2023-03-22   98.032748  134.415365  277.215598  144.846026\n",
       "2023-03-23   98.751325  132.993082  275.684821  147.077264\n",
       "\n",
       "[1296 rows x 4 columns]"
      ]
     },
     "execution_count": 41,
     "metadata": {},
     "output_type": "execute_result"
    }
   ],
   "source": [
    "(mydata/ mydata.iloc[0]*100)"
   ]
  },
  {
   "cell_type": "code",
   "execution_count": 42,
   "id": "4b5f11cd",
   "metadata": {},
   "outputs": [
    {
     "data": {
      "image/png": "[encoded data removed]",
      "text/plain": [
       "<Figure size 1000x500 with 1 Axes>"
      ]
     },
     "metadata": {},
     "output_type": "display_data"
    }
   ],
   "source": [
    "(mydata/ mydata.iloc[0]*100).plot(figsize=(10, 5));\n",
    "plt.show()"
   ]
  },
  {
   "cell_type": "markdown",
   "id": "2a02f7f1",
   "metadata": {},
   "source": [
    "## Calculating the Return of a Portfolio of Securities"
   ]
  },
  {
   "cell_type": "code",
   "execution_count": 43,
   "id": "d87ea882",
   "metadata": {},
   "outputs": [
    {
     "data": {
      "text/html": [
       "<div>\n",
       "<style scoped>\n",
       "    .dataframe tbody tr th:only-of-type {\n",
       "        vertical-align: middle;\n",
       "    }\n",
       "\n",
       "    .dataframe tbody tr th {\n",
       "        vertical-align: top;\n",
       "    }\n",
       "\n",
       "    .dataframe thead th {\n",
       "        text-align: right;\n",
       "    }\n",
       "</style>\n",
       "<table border=\"1\" class=\"dataframe\">\n",
       "  <thead>\n",
       "    <tr style=\"text-align: right;\">\n",
       "      <th></th>\n",
       "      <th>TATAMOTORS</th>\n",
       "      <th>INFY</th>\n",
       "      <th>ICICIBANK</th>\n",
       "      <th>HINDALCO</th>\n",
       "    </tr>\n",
       "    <tr>\n",
       "      <th>Date</th>\n",
       "      <th></th>\n",
       "      <th></th>\n",
       "      <th></th>\n",
       "      <th></th>\n",
       "    </tr>\n",
       "  </thead>\n",
       "  <tbody>\n",
       "    <tr>\n",
       "      <th>2018-01-01</th>\n",
       "      <td>NaN</td>\n",
       "      <td>NaN</td>\n",
       "      <td>NaN</td>\n",
       "      <td>NaN</td>\n",
       "    </tr>\n",
       "    <tr>\n",
       "      <th>2018-01-02</th>\n",
       "      <td>0.034986</td>\n",
       "      <td>-0.003725</td>\n",
       "      <td>-0.001934</td>\n",
       "      <td>0.002766</td>\n",
       "    </tr>\n",
       "    <tr>\n",
       "      <th>2018-01-03</th>\n",
       "      <td>-0.012292</td>\n",
       "      <td>-0.008158</td>\n",
       "      <td>0.017113</td>\n",
       "      <td>0.016918</td>\n",
       "    </tr>\n",
       "    <tr>\n",
       "      <th>2018-01-04</th>\n",
       "      <td>-0.009103</td>\n",
       "      <td>-0.005777</td>\n",
       "      <td>-0.000952</td>\n",
       "      <td>0.011935</td>\n",
       "    </tr>\n",
       "    <tr>\n",
       "      <th>2018-01-05</th>\n",
       "      <td>0.003838</td>\n",
       "      <td>-0.003348</td>\n",
       "      <td>-0.005720</td>\n",
       "      <td>-0.012152</td>\n",
       "    </tr>\n",
       "    <tr>\n",
       "      <th>...</th>\n",
       "      <td>...</td>\n",
       "      <td>...</td>\n",
       "      <td>...</td>\n",
       "      <td>...</td>\n",
       "    </tr>\n",
       "    <tr>\n",
       "      <th>2023-03-17</th>\n",
       "      <td>0.007938</td>\n",
       "      <td>0.011823</td>\n",
       "      <td>0.014990</td>\n",
       "      <td>0.030523</td>\n",
       "    </tr>\n",
       "    <tr>\n",
       "      <th>2023-03-20</th>\n",
       "      <td>-0.019690</td>\n",
       "      <td>-0.012001</td>\n",
       "      <td>0.000239</td>\n",
       "      <td>-0.027603</td>\n",
       "    </tr>\n",
       "    <tr>\n",
       "      <th>2023-03-21</th>\n",
       "      <td>0.004382</td>\n",
       "      <td>-0.009226</td>\n",
       "      <td>0.019069</td>\n",
       "      <td>0.007259</td>\n",
       "    </tr>\n",
       "    <tr>\n",
       "      <th>2023-03-22</th>\n",
       "      <td>0.008605</td>\n",
       "      <td>-0.001043</td>\n",
       "      <td>0.009151</td>\n",
       "      <td>0.010809</td>\n",
       "    </tr>\n",
       "    <tr>\n",
       "      <th>2023-03-23</th>\n",
       "      <td>0.007330</td>\n",
       "      <td>-0.010581</td>\n",
       "      <td>-0.005522</td>\n",
       "      <td>0.015404</td>\n",
       "    </tr>\n",
       "  </tbody>\n",
       "</table>\n",
       "<p>1296 rows × 4 columns</p>\n",
       "</div>"
      ],
      "text/plain": [
       "            TATAMOTORS      INFY  ICICIBANK  HINDALCO\n",
       "Date                                                 \n",
       "2018-01-01         NaN       NaN        NaN       NaN\n",
       "2018-01-02    0.034986 -0.003725  -0.001934  0.002766\n",
       "2018-01-03   -0.012292 -0.008158   0.017113  0.016918\n",
       "2018-01-04   -0.009103 -0.005777  -0.000952  0.011935\n",
       "2018-01-05    0.003838 -0.003348  -0.005720 -0.012152\n",
       "...                ...       ...        ...       ...\n",
       "2023-03-17    0.007938  0.011823   0.014990  0.030523\n",
       "2023-03-20   -0.019690 -0.012001   0.000239 -0.027603\n",
       "2023-03-21    0.004382 -0.009226   0.019069  0.007259\n",
       "2023-03-22    0.008605 -0.001043   0.009151  0.010809\n",
       "2023-03-23    0.007330 -0.010581  -0.005522  0.015404\n",
       "\n",
       "[1296 rows x 4 columns]"
      ]
     },
     "execution_count": 43,
     "metadata": {},
     "output_type": "execute_result"
    }
   ],
   "source": [
    "simple_returns = (mydata / mydata.shift(1)) - 1\n",
    "returns = simple_returns.astype('float64')\n",
    "returns"
   ]
  },
  {
   "cell_type": "markdown",
   "id": "33f27b97",
   "metadata": {},
   "source": [
    "##### Equal Weights"
   ]
  },
  {
   "cell_type": "code",
   "execution_count": 44,
   "id": "2b739a7c",
   "metadata": {},
   "outputs": [],
   "source": [
    "weights_1 = np.array([0.25, 0.25, 0.25, 0.25])"
   ]
  },
  {
   "cell_type": "code",
   "execution_count": 45,
   "id": "fcf1edda",
   "metadata": {},
   "outputs": [
    {
     "data": {
      "text/plain": [
       "array([       nan, 0.00802345, 0.00339533, ..., 0.00537089, 0.00688061,\n",
       "       0.00165774])"
      ]
     },
     "execution_count": 45,
     "metadata": {},
     "output_type": "execute_result"
    }
   ],
   "source": [
    "np.dot(returns, weights_1)"
   ]
  },
  {
   "cell_type": "code",
   "execution_count": 46,
   "id": "d7875762",
   "metadata": {},
   "outputs": [
    {
     "data": {
      "text/plain": [
       "TATAMOTORS    0.112821\n",
       "INFY          0.130404\n",
       "ICICIBANK     0.255162\n",
       "HINDALCO      0.162796\n",
       "dtype: float64"
      ]
     },
     "execution_count": 46,
     "metadata": {},
     "output_type": "execute_result"
    }
   ],
   "source": [
    "annual_returns = returns.mean()*250\n",
    "annual_returns"
   ]
  },
  {
   "cell_type": "code",
   "execution_count": 47,
   "id": "35eb4ed3",
   "metadata": {},
   "outputs": [
    {
     "data": {
      "text/plain": [
       "0.1653"
      ]
     },
     "execution_count": 47,
     "metadata": {},
     "output_type": "execute_result"
    }
   ],
   "source": [
    "round(np.dot(annual_returns, weights_1),5)"
   ]
  },
  {
   "cell_type": "code",
   "execution_count": 48,
   "id": "f55fc5a4",
   "metadata": {},
   "outputs": [
    {
     "name": "stdout",
     "output_type": "stream",
     "text": [
      "16.53%\n"
     ]
    }
   ],
   "source": [
    "pfolio_1 = str(round(np.dot(annual_returns, weights_1),4)*100) + '%'\n",
    "print (pfolio_1)"
   ]
  },
  {
   "cell_type": "markdown",
   "id": "08b92db0",
   "metadata": {},
   "source": [
    "##### Unequal Weights"
   ]
  },
  {
   "cell_type": "code",
   "execution_count": 49,
   "id": "d57125b6",
   "metadata": {},
   "outputs": [],
   "source": [
    "weights_2 = np.array([0.4, 0.30, 0.20, 0.10])"
   ]
  },
  {
   "cell_type": "code",
   "execution_count": 50,
   "id": "dfcb98d7",
   "metadata": {},
   "outputs": [
    {
     "data": {
      "text/plain": [
       "0.1516"
      ]
     },
     "execution_count": 50,
     "metadata": {},
     "output_type": "execute_result"
    }
   ],
   "source": [
    "round(np.dot(annual_returns, weights_2),4)"
   ]
  },
  {
   "cell_type": "code",
   "execution_count": 51,
   "id": "2c0603a0",
   "metadata": {},
   "outputs": [
    {
     "name": "stdout",
     "output_type": "stream",
     "text": [
      "15.160000000000002%\n"
     ]
    }
   ],
   "source": [
    "pfolio_2 = str(round(np.dot(annual_returns, weights_2),4)*100) + '%'\n",
    "print (pfolio_2)"
   ]
  },
  {
   "cell_type": "code",
   "execution_count": 52,
   "id": "2784d3a0",
   "metadata": {},
   "outputs": [
    {
     "name": "stdout",
     "output_type": "stream",
     "text": [
      "16.53%\n",
      "15.160000000000002%\n"
     ]
    }
   ],
   "source": [
    "print (pfolio_1)\n",
    "print (pfolio_2)"
   ]
  },
  {
   "cell_type": "code",
   "execution_count": null,
   "id": "37c91557",
   "metadata": {},
   "outputs": [],
   "source": []
  },
  {
   "cell_type": "code",
   "execution_count": null,
   "id": "7936c0db",
   "metadata": {},
   "outputs": [],
   "source": []
  },
  {
   "cell_type": "code",
   "execution_count": null,
   "id": "d33cb8dd",
   "metadata": {},
   "outputs": [],
   "source": []
  }
 ],
 "metadata": {
  "kernelspec": {
   "display_name": "Python 3 (ipykernel)",
   "language": "python",
   "name": "python3"
  },
  "language_info": {
   "codemirror_mode": {
    "name": "ipython",
    "version": 3
   },
   "file_extension": ".py",
   "mimetype": "text/x-python",
   "name": "python",
   "nbconvert_exporter": "python",
   "pygments_lexer": "ipython3",
   "version": "3.9.13"
  }
 },
 "nbformat": 4,
 "nbformat_minor": 5
}
