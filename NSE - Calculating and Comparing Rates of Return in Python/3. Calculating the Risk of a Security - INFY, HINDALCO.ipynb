{
 "cells": [
  {
   "cell_type": "markdown",
   "id": "97211465",
   "metadata": {},
   "source": [
    "### Calculating the Risk of a Security - INFY, HINDALCO"
   ]
  },
  {
   "cell_type": "code",
   "execution_count": 1,
   "id": "77443381",
   "metadata": {},
   "outputs": [],
   "source": [
    "import numpy as np\n",
    "import pandas as pd\n",
    "import nsepy as nse\n",
    "import matplotlib.pyplot as plt"
   ]
  },
  {
   "cell_type": "code",
   "execution_count": 2,
   "id": "a5254348",
   "metadata": {},
   "outputs": [],
   "source": [
    "from nsepy import get_history\n",
    "from datetime import date"
   ]
  },
  {
   "cell_type": "code",
   "execution_count": 6,
   "id": "3d140d3e",
   "metadata": {},
   "outputs": [],
   "source": [
    "tickers = ['INFY', 'HINDALCO']\n",
    "sec_data = pd.DataFrame()\n",
    "for t in tickers:\n",
    "    sec_data[t] = nse.get_history(t, index = False, start = date(2018, 1, 1), end = date(2023, 3, 24))['Close']"
   ]
  },
  {
   "cell_type": "code",
   "execution_count": 7,
   "id": "b356da5b",
   "metadata": {},
   "outputs": [
    {
     "data": {
      "text/html": [
       "<div>\n",
       "<style scoped>\n",
       "    .dataframe tbody tr th:only-of-type {\n",
       "        vertical-align: middle;\n",
       "    }\n",
       "\n",
       "    .dataframe tbody tr th {\n",
       "        vertical-align: top;\n",
       "    }\n",
       "\n",
       "    .dataframe thead th {\n",
       "        text-align: right;\n",
       "    }\n",
       "</style>\n",
       "<table border=\"1\" class=\"dataframe\">\n",
       "  <thead>\n",
       "    <tr style=\"text-align: right;\">\n",
       "      <th></th>\n",
       "      <th>INFY</th>\n",
       "      <th>HINDALCO</th>\n",
       "    </tr>\n",
       "    <tr>\n",
       "      <th>Date</th>\n",
       "      <th></th>\n",
       "      <th></th>\n",
       "    </tr>\n",
       "  </thead>\n",
       "  <tbody>\n",
       "    <tr>\n",
       "      <th>2018-01-01</th>\n",
       "      <td>1033.55</td>\n",
       "      <td>271.15</td>\n",
       "    </tr>\n",
       "    <tr>\n",
       "      <th>2018-01-02</th>\n",
       "      <td>1029.70</td>\n",
       "      <td>271.90</td>\n",
       "    </tr>\n",
       "    <tr>\n",
       "      <th>2018-01-03</th>\n",
       "      <td>1021.30</td>\n",
       "      <td>276.50</td>\n",
       "    </tr>\n",
       "    <tr>\n",
       "      <th>2018-01-04</th>\n",
       "      <td>1015.40</td>\n",
       "      <td>279.80</td>\n",
       "    </tr>\n",
       "    <tr>\n",
       "      <th>2018-01-05</th>\n",
       "      <td>1012.00</td>\n",
       "      <td>276.40</td>\n",
       "    </tr>\n",
       "    <tr>\n",
       "      <th>...</th>\n",
       "      <td>...</td>\n",
       "      <td>...</td>\n",
       "    </tr>\n",
       "    <tr>\n",
       "      <th>2023-03-20</th>\n",
       "      <td>1403.65</td>\n",
       "      <td>385.75</td>\n",
       "    </tr>\n",
       "    <tr>\n",
       "      <th>2023-03-21</th>\n",
       "      <td>1390.70</td>\n",
       "      <td>388.55</td>\n",
       "    </tr>\n",
       "    <tr>\n",
       "      <th>2023-03-22</th>\n",
       "      <td>1389.25</td>\n",
       "      <td>392.75</td>\n",
       "    </tr>\n",
       "    <tr>\n",
       "      <th>2023-03-23</th>\n",
       "      <td>1374.55</td>\n",
       "      <td>398.80</td>\n",
       "    </tr>\n",
       "    <tr>\n",
       "      <th>2023-03-24</th>\n",
       "      <td>1380.65</td>\n",
       "      <td>388.40</td>\n",
       "    </tr>\n",
       "  </tbody>\n",
       "</table>\n",
       "<p>1297 rows × 2 columns</p>\n",
       "</div>"
      ],
      "text/plain": [
       "               INFY  HINDALCO\n",
       "Date                         \n",
       "2018-01-01  1033.55    271.15\n",
       "2018-01-02  1029.70    271.90\n",
       "2018-01-03  1021.30    276.50\n",
       "2018-01-04  1015.40    279.80\n",
       "2018-01-05  1012.00    276.40\n",
       "...             ...       ...\n",
       "2023-03-20  1403.65    385.75\n",
       "2023-03-21  1390.70    388.55\n",
       "2023-03-22  1389.25    392.75\n",
       "2023-03-23  1374.55    398.80\n",
       "2023-03-24  1380.65    388.40\n",
       "\n",
       "[1297 rows x 2 columns]"
      ]
     },
     "execution_count": 7,
     "metadata": {},
     "output_type": "execute_result"
    }
   ],
   "source": [
    "sec_data"
   ]
  },
  {
   "cell_type": "code",
   "execution_count": 8,
   "id": "e1c8a1f1",
   "metadata": {},
   "outputs": [
    {
     "data": {
      "text/html": [
       "<div>\n",
       "<style scoped>\n",
       "    .dataframe tbody tr th:only-of-type {\n",
       "        vertical-align: middle;\n",
       "    }\n",
       "\n",
       "    .dataframe tbody tr th {\n",
       "        vertical-align: top;\n",
       "    }\n",
       "\n",
       "    .dataframe thead th {\n",
       "        text-align: right;\n",
       "    }\n",
       "</style>\n",
       "<table border=\"1\" class=\"dataframe\">\n",
       "  <thead>\n",
       "    <tr style=\"text-align: right;\">\n",
       "      <th></th>\n",
       "      <th>INFY</th>\n",
       "      <th>HINDALCO</th>\n",
       "    </tr>\n",
       "    <tr>\n",
       "      <th>Date</th>\n",
       "      <th></th>\n",
       "      <th></th>\n",
       "    </tr>\n",
       "  </thead>\n",
       "  <tbody>\n",
       "    <tr>\n",
       "      <th>2018-01-01</th>\n",
       "      <td>NaN</td>\n",
       "      <td>NaN</td>\n",
       "    </tr>\n",
       "    <tr>\n",
       "      <th>2018-01-02</th>\n",
       "      <td>-0.003732</td>\n",
       "      <td>0.002762</td>\n",
       "    </tr>\n",
       "    <tr>\n",
       "      <th>2018-01-03</th>\n",
       "      <td>-0.008191</td>\n",
       "      <td>0.016776</td>\n",
       "    </tr>\n",
       "    <tr>\n",
       "      <th>2018-01-04</th>\n",
       "      <td>-0.005794</td>\n",
       "      <td>0.011864</td>\n",
       "    </tr>\n",
       "    <tr>\n",
       "      <th>2018-01-05</th>\n",
       "      <td>-0.003354</td>\n",
       "      <td>-0.012226</td>\n",
       "    </tr>\n",
       "    <tr>\n",
       "      <th>...</th>\n",
       "      <td>...</td>\n",
       "      <td>...</td>\n",
       "    </tr>\n",
       "    <tr>\n",
       "      <th>2023-03-20</th>\n",
       "      <td>-0.012074</td>\n",
       "      <td>-0.027991</td>\n",
       "    </tr>\n",
       "    <tr>\n",
       "      <th>2023-03-21</th>\n",
       "      <td>-0.009269</td>\n",
       "      <td>0.007232</td>\n",
       "    </tr>\n",
       "    <tr>\n",
       "      <th>2023-03-22</th>\n",
       "      <td>-0.001043</td>\n",
       "      <td>0.010751</td>\n",
       "    </tr>\n",
       "    <tr>\n",
       "      <th>2023-03-23</th>\n",
       "      <td>-0.010638</td>\n",
       "      <td>0.015287</td>\n",
       "    </tr>\n",
       "    <tr>\n",
       "      <th>2023-03-24</th>\n",
       "      <td>0.004428</td>\n",
       "      <td>-0.026424</td>\n",
       "    </tr>\n",
       "  </tbody>\n",
       "</table>\n",
       "<p>1297 rows × 2 columns</p>\n",
       "</div>"
      ],
      "text/plain": [
       "                INFY  HINDALCO\n",
       "Date                          \n",
       "2018-01-01       NaN       NaN\n",
       "2018-01-02 -0.003732  0.002762\n",
       "2018-01-03 -0.008191  0.016776\n",
       "2018-01-04 -0.005794  0.011864\n",
       "2018-01-05 -0.003354 -0.012226\n",
       "...              ...       ...\n",
       "2023-03-20 -0.012074 -0.027991\n",
       "2023-03-21 -0.009269  0.007232\n",
       "2023-03-22 -0.001043  0.010751\n",
       "2023-03-23 -0.010638  0.015287\n",
       "2023-03-24  0.004428 -0.026424\n",
       "\n",
       "[1297 rows x 2 columns]"
      ]
     },
     "execution_count": 8,
     "metadata": {},
     "output_type": "execute_result"
    }
   ],
   "source": [
    "sec_returns = np.log(sec_data / sec_data.shift(1))\n",
    "sec_returns"
   ]
  },
  {
   "cell_type": "markdown",
   "id": "38232ec8",
   "metadata": {},
   "source": [
    "### INFY"
   ]
  },
  {
   "cell_type": "markdown",
   "id": "f2f90356",
   "metadata": {},
   "source": [
    "Daily risk:"
   ]
  },
  {
   "cell_type": "code",
   "execution_count": 9,
   "id": "37a6383b",
   "metadata": {},
   "outputs": [
    {
     "data": {
      "text/plain": [
       "0.025858780215284132"
      ]
     },
     "execution_count": 9,
     "metadata": {},
     "output_type": "execute_result"
    }
   ],
   "source": [
    "sec_returns['INFY'].std()"
   ]
  },
  {
   "cell_type": "markdown",
   "id": "ef7584d2",
   "metadata": {},
   "source": [
    "Annual risk:"
   ]
  },
  {
   "cell_type": "code",
   "execution_count": 11,
   "id": "5209e525",
   "metadata": {},
   "outputs": [
    {
     "data": {
      "text/plain": [
       "0.4088632149699854"
      ]
     },
     "execution_count": 11,
     "metadata": {},
     "output_type": "execute_result"
    }
   ],
   "source": [
    "sec_returns['INFY'].std()*250**0.5"
   ]
  },
  {
   "cell_type": "markdown",
   "id": "7771cccb",
   "metadata": {},
   "source": [
    "### HINDALCO"
   ]
  },
  {
   "cell_type": "code",
   "execution_count": 13,
   "id": "9ce169cb",
   "metadata": {},
   "outputs": [
    {
     "data": {
      "text/plain": [
       "0.02660142997120023"
      ]
     },
     "execution_count": 13,
     "metadata": {},
     "output_type": "execute_result"
    }
   ],
   "source": [
    "sec_returns['HINDALCO'].std()"
   ]
  },
  {
   "cell_type": "code",
   "execution_count": 14,
   "id": "1a968d04",
   "metadata": {},
   "outputs": [
    {
     "data": {
      "text/plain": [
       "0.4206055386323003"
      ]
     },
     "execution_count": 14,
     "metadata": {},
     "output_type": "execute_result"
    }
   ],
   "source": [
    "sec_returns['HINDALCO'].std()*250**0.5"
   ]
  },
  {
   "cell_type": "markdown",
   "id": "ba47dc64",
   "metadata": {},
   "source": [
    "Store the volatilities of the two stocks in an array called “vols”."
   ]
  },
  {
   "cell_type": "code",
   "execution_count": 15,
   "id": "16a14c65",
   "metadata": {},
   "outputs": [
    {
     "data": {
      "text/plain": [
       "INFY        0.408863\n",
       "HINDALCO    0.420606\n",
       "dtype: float64"
      ]
     },
     "execution_count": 15,
     "metadata": {},
     "output_type": "execute_result"
    }
   ],
   "source": [
    "vols = sec_returns[['INFY', 'HINDALCO']].std() * 250**0.5\n",
    "vols"
   ]
  },
  {
   "cell_type": "code",
   "execution_count": null,
   "id": "d555acb9",
   "metadata": {},
   "outputs": [],
   "source": []
  }
 ],
 "metadata": {
  "kernelspec": {
   "display_name": "Python 3 (ipykernel)",
   "language": "python",
   "name": "python3"
  },
  "language_info": {
   "codemirror_mode": {
    "name": "ipython",
    "version": 3
   },
   "file_extension": ".py",
   "mimetype": "text/x-python",
   "name": "python",
   "nbconvert_exporter": "python",
   "pygments_lexer": "ipython3",
   "version": "3.9.13"
  }
 },
 "nbformat": 4,
 "nbformat_minor": 5
}
