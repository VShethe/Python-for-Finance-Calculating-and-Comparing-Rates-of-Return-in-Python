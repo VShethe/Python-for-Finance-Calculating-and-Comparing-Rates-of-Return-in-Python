{
 "cells": [
  {
   "cell_type": "markdown",
   "id": "5f803174",
   "metadata": {},
   "source": [
    "### LOGARITHMIC RETURNS & AVERAGE RETURNS"
   ]
  },
  {
   "cell_type": "markdown",
   "id": "08a8d9fd",
   "metadata": {},
   "source": [
    "Download the data for Microsoft (‘MSFT’) from IEX for the period ‘2018-1-1’ until today."
   ]
  },
  {
   "cell_type": "code",
   "execution_count": 2,
   "id": "5909f5db",
   "metadata": {},
   "outputs": [],
   "source": [
    "import numpy as np\n",
    "import pandas as pd\n",
    "import matplotlib.pyplot as plt"
   ]
  },
  {
   "cell_type": "code",
   "execution_count": 3,
   "id": "20a7ebe9",
   "metadata": {},
   "outputs": [],
   "source": [
    "from iexfinance.stocks import Stock, get_historical_data"
   ]
  },
  {
   "cell_type": "code",
   "execution_count": 4,
   "id": "a4813c50",
   "metadata": {},
   "outputs": [],
   "source": [
    "api_key = 'API_KEY'"
   ]
  },
  {
   "cell_type": "code",
   "execution_count": 5,
   "id": "e701009d",
   "metadata": {},
   "outputs": [],
   "source": [
    "MSFT = Stock('MSFT', output_format='pandas', token=api_key)"
   ]
  },
  {
   "cell_type": "code",
   "execution_count": 6,
   "id": "19ad1d76",
   "metadata": {},
   "outputs": [],
   "source": [
    "from datetime import datetime"
   ]
  },
  {
   "cell_type": "code",
   "execution_count": 7,
   "id": "badb63af",
   "metadata": {},
   "outputs": [],
   "source": [
    "start = datetime(2015, 1, 1)\n",
    "end = datetime(2022, 12, 30)"
   ]
  },
  {
   "cell_type": "code",
   "execution_count": 8,
   "id": "a60f4d91",
   "metadata": {},
   "outputs": [],
   "source": [
    "MSFT = get_historical_data('MSFT', start, end, output_format = 'pandas', token=api_key)"
   ]
  },
  {
   "cell_type": "code",
   "execution_count": 9,
   "id": "9198401c",
   "metadata": {},
   "outputs": [
    {
     "data": {
      "text/html": [
       "<div>\n",
       "<style scoped>\n",
       "    .dataframe tbody tr th:only-of-type {\n",
       "        vertical-align: middle;\n",
       "    }\n",
       "\n",
       "    .dataframe tbody tr th {\n",
       "        vertical-align: top;\n",
       "    }\n",
       "\n",
       "    .dataframe thead th {\n",
       "        text-align: right;\n",
       "    }\n",
       "</style>\n",
       "<table border=\"1\" class=\"dataframe\">\n",
       "  <thead>\n",
       "    <tr style=\"text-align: right;\">\n",
       "      <th></th>\n",
       "      <th>close</th>\n",
       "      <th>high</th>\n",
       "      <th>low</th>\n",
       "      <th>open</th>\n",
       "      <th>priceDate</th>\n",
       "      <th>symbol</th>\n",
       "      <th>volume</th>\n",
       "      <th>id</th>\n",
       "      <th>key</th>\n",
       "      <th>subkey</th>\n",
       "      <th>...</th>\n",
       "      <th>uLow</th>\n",
       "      <th>uVolume</th>\n",
       "      <th>fOpen</th>\n",
       "      <th>fClose</th>\n",
       "      <th>fHigh</th>\n",
       "      <th>fLow</th>\n",
       "      <th>fVolume</th>\n",
       "      <th>label</th>\n",
       "      <th>change</th>\n",
       "      <th>changePercent</th>\n",
       "    </tr>\n",
       "  </thead>\n",
       "  <tbody>\n",
       "    <tr>\n",
       "      <th>2015-01-02</th>\n",
       "      <td>46.76</td>\n",
       "      <td>47.42</td>\n",
       "      <td>46.54</td>\n",
       "      <td>46.66</td>\n",
       "      <td>2015-01-02</td>\n",
       "      <td>MSFT</td>\n",
       "      <td>27913852</td>\n",
       "      <td>HISTORICAL_PRICES</td>\n",
       "      <td>MSFT</td>\n",
       "      <td></td>\n",
       "      <td>...</td>\n",
       "      <td>46.54</td>\n",
       "      <td>27913852</td>\n",
       "      <td>41.2052</td>\n",
       "      <td>41.2935</td>\n",
       "      <td>41.8764</td>\n",
       "      <td>41.0992</td>\n",
       "      <td>27913852</td>\n",
       "      <td>Jan 2, 15</td>\n",
       "      <td>0.31</td>\n",
       "      <td>0.0067</td>\n",
       "    </tr>\n",
       "    <tr>\n",
       "      <th>2015-01-05</th>\n",
       "      <td>46.325</td>\n",
       "      <td>46.73</td>\n",
       "      <td>46.25</td>\n",
       "      <td>46.37</td>\n",
       "      <td>2015-01-05</td>\n",
       "      <td>MSFT</td>\n",
       "      <td>39673865</td>\n",
       "      <td>HISTORICAL_PRICES</td>\n",
       "      <td>MSFT</td>\n",
       "      <td></td>\n",
       "      <td>...</td>\n",
       "      <td>46.25</td>\n",
       "      <td>39673865</td>\n",
       "      <td>40.9491</td>\n",
       "      <td>40.9094</td>\n",
       "      <td>41.267</td>\n",
       "      <td>40.8431</td>\n",
       "      <td>39673865</td>\n",
       "      <td>Jan 5, 15</td>\n",
       "      <td>-0.435</td>\n",
       "      <td>-0.0093</td>\n",
       "    </tr>\n",
       "    <tr>\n",
       "      <th>2015-01-06</th>\n",
       "      <td>45.65</td>\n",
       "      <td>46.749</td>\n",
       "      <td>45.54</td>\n",
       "      <td>46.38</td>\n",
       "      <td>2015-01-06</td>\n",
       "      <td>MSFT</td>\n",
       "      <td>36447854</td>\n",
       "      <td>HISTORICAL_PRICES</td>\n",
       "      <td>MSFT</td>\n",
       "      <td></td>\n",
       "      <td>...</td>\n",
       "      <td>45.54</td>\n",
       "      <td>36447854</td>\n",
       "      <td>40.958</td>\n",
       "      <td>40.3133</td>\n",
       "      <td>41.2838</td>\n",
       "      <td>40.2162</td>\n",
       "      <td>36447854</td>\n",
       "      <td>Jan 6, 15</td>\n",
       "      <td>-0.675</td>\n",
       "      <td>-0.0146</td>\n",
       "    </tr>\n",
       "    <tr>\n",
       "      <th>2015-01-07</th>\n",
       "      <td>46.23</td>\n",
       "      <td>46.46</td>\n",
       "      <td>45.49</td>\n",
       "      <td>45.98</td>\n",
       "      <td>2015-01-07</td>\n",
       "      <td>MSFT</td>\n",
       "      <td>29114061</td>\n",
       "      <td>HISTORICAL_PRICES</td>\n",
       "      <td>MSFT</td>\n",
       "      <td></td>\n",
       "      <td>...</td>\n",
       "      <td>45.49</td>\n",
       "      <td>29114061</td>\n",
       "      <td>40.6047</td>\n",
       "      <td>40.8255</td>\n",
       "      <td>41.0286</td>\n",
       "      <td>40.172</td>\n",
       "      <td>29114061</td>\n",
       "      <td>Jan 7, 15</td>\n",
       "      <td>0.58</td>\n",
       "      <td>0.0127</td>\n",
       "    </tr>\n",
       "    <tr>\n",
       "      <th>2015-01-08</th>\n",
       "      <td>47.59</td>\n",
       "      <td>47.7499</td>\n",
       "      <td>46.72</td>\n",
       "      <td>46.75</td>\n",
       "      <td>2015-01-08</td>\n",
       "      <td>MSFT</td>\n",
       "      <td>29645202</td>\n",
       "      <td>HISTORICAL_PRICES</td>\n",
       "      <td>MSFT</td>\n",
       "      <td></td>\n",
       "      <td>...</td>\n",
       "      <td>46.72</td>\n",
       "      <td>29645202</td>\n",
       "      <td>41.2847</td>\n",
       "      <td>42.0265</td>\n",
       "      <td>42.1677</td>\n",
       "      <td>41.2582</td>\n",
       "      <td>29645202</td>\n",
       "      <td>Jan 8, 15</td>\n",
       "      <td>1.36</td>\n",
       "      <td>0.0294</td>\n",
       "    </tr>\n",
       "    <tr>\n",
       "      <th>...</th>\n",
       "      <td>...</td>\n",
       "      <td>...</td>\n",
       "      <td>...</td>\n",
       "      <td>...</td>\n",
       "      <td>...</td>\n",
       "      <td>...</td>\n",
       "      <td>...</td>\n",
       "      <td>...</td>\n",
       "      <td>...</td>\n",
       "      <td>...</td>\n",
       "      <td>...</td>\n",
       "      <td>...</td>\n",
       "      <td>...</td>\n",
       "      <td>...</td>\n",
       "      <td>...</td>\n",
       "      <td>...</td>\n",
       "      <td>...</td>\n",
       "      <td>...</td>\n",
       "      <td>...</td>\n",
       "      <td>...</td>\n",
       "      <td>...</td>\n",
       "    </tr>\n",
       "    <tr>\n",
       "      <th>2022-12-23</th>\n",
       "      <td>238.73</td>\n",
       "      <td>238.87</td>\n",
       "      <td>233.943</td>\n",
       "      <td>236.11</td>\n",
       "      <td>2022-12-23</td>\n",
       "      <td>MSFT</td>\n",
       "      <td>21206982</td>\n",
       "      <td>HISTORICAL_PRICES</td>\n",
       "      <td>MSFT</td>\n",
       "      <td></td>\n",
       "      <td>...</td>\n",
       "      <td>233.9428</td>\n",
       "      <td>21206982</td>\n",
       "      <td>235.52</td>\n",
       "      <td>238.134</td>\n",
       "      <td>238.273</td>\n",
       "      <td>233.358</td>\n",
       "      <td>21206982</td>\n",
       "      <td>Dec 23, 22</td>\n",
       "      <td>0.54</td>\n",
       "      <td>0.0023</td>\n",
       "    </tr>\n",
       "    <tr>\n",
       "      <th>2022-12-27</th>\n",
       "      <td>236.96</td>\n",
       "      <td>238.93</td>\n",
       "      <td>235.83</td>\n",
       "      <td>238.7</td>\n",
       "      <td>2022-12-27</td>\n",
       "      <td>MSFT</td>\n",
       "      <td>16688648</td>\n",
       "      <td>HISTORICAL_PRICES</td>\n",
       "      <td>MSFT</td>\n",
       "      <td></td>\n",
       "      <td>...</td>\n",
       "      <td>235.83</td>\n",
       "      <td>16688648</td>\n",
       "      <td>238.104</td>\n",
       "      <td>236.368</td>\n",
       "      <td>238.333</td>\n",
       "      <td>235.241</td>\n",
       "      <td>16688648</td>\n",
       "      <td>Dec 27, 22</td>\n",
       "      <td>-1.77</td>\n",
       "      <td>-0.0074</td>\n",
       "    </tr>\n",
       "    <tr>\n",
       "      <th>2022-12-28</th>\n",
       "      <td>234.53</td>\n",
       "      <td>239.72</td>\n",
       "      <td>234.17</td>\n",
       "      <td>236.89</td>\n",
       "      <td>2022-12-28</td>\n",
       "      <td>MSFT</td>\n",
       "      <td>17457104</td>\n",
       "      <td>HISTORICAL_PRICES</td>\n",
       "      <td>MSFT</td>\n",
       "      <td></td>\n",
       "      <td>...</td>\n",
       "      <td>234.17</td>\n",
       "      <td>17457104</td>\n",
       "      <td>236.298</td>\n",
       "      <td>233.944</td>\n",
       "      <td>239.121</td>\n",
       "      <td>233.585</td>\n",
       "      <td>17457104</td>\n",
       "      <td>Dec 28, 22</td>\n",
       "      <td>-2.43</td>\n",
       "      <td>-0.0103</td>\n",
       "    </tr>\n",
       "    <tr>\n",
       "      <th>2022-12-29</th>\n",
       "      <td>241.01</td>\n",
       "      <td>241.92</td>\n",
       "      <td>235.65</td>\n",
       "      <td>235.65</td>\n",
       "      <td>2022-12-29</td>\n",
       "      <td>MSFT</td>\n",
       "      <td>19770693</td>\n",
       "      <td>HISTORICAL_PRICES</td>\n",
       "      <td>MSFT</td>\n",
       "      <td></td>\n",
       "      <td>...</td>\n",
       "      <td>235.65</td>\n",
       "      <td>19770693</td>\n",
       "      <td>235.061</td>\n",
       "      <td>240.408</td>\n",
       "      <td>241.316</td>\n",
       "      <td>235.061</td>\n",
       "      <td>19770693</td>\n",
       "      <td>Dec 29, 22</td>\n",
       "      <td>6.48</td>\n",
       "      <td>0.0276</td>\n",
       "    </tr>\n",
       "    <tr>\n",
       "      <th>2022-12-30</th>\n",
       "      <td>239.82</td>\n",
       "      <td>239.96</td>\n",
       "      <td>236.66</td>\n",
       "      <td>238.21</td>\n",
       "      <td>2022-12-30</td>\n",
       "      <td>MSFT</td>\n",
       "      <td>21938472</td>\n",
       "      <td>HISTORICAL_PRICES</td>\n",
       "      <td>MSFT</td>\n",
       "      <td></td>\n",
       "      <td>...</td>\n",
       "      <td>236.66</td>\n",
       "      <td>21938472</td>\n",
       "      <td>237.615</td>\n",
       "      <td>239.221</td>\n",
       "      <td>239.361</td>\n",
       "      <td>236.069</td>\n",
       "      <td>21938472</td>\n",
       "      <td>Dec 30, 22</td>\n",
       "      <td>-1.19</td>\n",
       "      <td>-0.0049</td>\n",
       "    </tr>\n",
       "  </tbody>\n",
       "</table>\n",
       "<p>2013 rows × 26 columns</p>\n",
       "</div>"
      ],
      "text/plain": [
       "             close     high      low    open   priceDate symbol    volume  \\\n",
       "2015-01-02   46.76    47.42    46.54   46.66  2015-01-02   MSFT  27913852   \n",
       "2015-01-05  46.325    46.73    46.25   46.37  2015-01-05   MSFT  39673865   \n",
       "2015-01-06   45.65   46.749    45.54   46.38  2015-01-06   MSFT  36447854   \n",
       "2015-01-07   46.23    46.46    45.49   45.98  2015-01-07   MSFT  29114061   \n",
       "2015-01-08   47.59  47.7499    46.72   46.75  2015-01-08   MSFT  29645202   \n",
       "...            ...      ...      ...     ...         ...    ...       ...   \n",
       "2022-12-23  238.73   238.87  233.943  236.11  2022-12-23   MSFT  21206982   \n",
       "2022-12-27  236.96   238.93   235.83   238.7  2022-12-27   MSFT  16688648   \n",
       "2022-12-28  234.53   239.72   234.17  236.89  2022-12-28   MSFT  17457104   \n",
       "2022-12-29  241.01   241.92   235.65  235.65  2022-12-29   MSFT  19770693   \n",
       "2022-12-30  239.82   239.96   236.66  238.21  2022-12-30   MSFT  21938472   \n",
       "\n",
       "                           id   key subkey  ...      uLow   uVolume    fOpen  \\\n",
       "2015-01-02  HISTORICAL_PRICES  MSFT         ...     46.54  27913852  41.2052   \n",
       "2015-01-05  HISTORICAL_PRICES  MSFT         ...     46.25  39673865  40.9491   \n",
       "2015-01-06  HISTORICAL_PRICES  MSFT         ...     45.54  36447854   40.958   \n",
       "2015-01-07  HISTORICAL_PRICES  MSFT         ...     45.49  29114061  40.6047   \n",
       "2015-01-08  HISTORICAL_PRICES  MSFT         ...     46.72  29645202  41.2847   \n",
       "...                       ...   ...    ...  ...       ...       ...      ...   \n",
       "2022-12-23  HISTORICAL_PRICES  MSFT         ...  233.9428  21206982   235.52   \n",
       "2022-12-27  HISTORICAL_PRICES  MSFT         ...    235.83  16688648  238.104   \n",
       "2022-12-28  HISTORICAL_PRICES  MSFT         ...    234.17  17457104  236.298   \n",
       "2022-12-29  HISTORICAL_PRICES  MSFT         ...    235.65  19770693  235.061   \n",
       "2022-12-30  HISTORICAL_PRICES  MSFT         ...    236.66  21938472  237.615   \n",
       "\n",
       "             fClose    fHigh     fLow   fVolume       label change  \\\n",
       "2015-01-02  41.2935  41.8764  41.0992  27913852   Jan 2, 15   0.31   \n",
       "2015-01-05  40.9094   41.267  40.8431  39673865   Jan 5, 15 -0.435   \n",
       "2015-01-06  40.3133  41.2838  40.2162  36447854   Jan 6, 15 -0.675   \n",
       "2015-01-07  40.8255  41.0286   40.172  29114061   Jan 7, 15   0.58   \n",
       "2015-01-08  42.0265  42.1677  41.2582  29645202   Jan 8, 15   1.36   \n",
       "...             ...      ...      ...       ...         ...    ...   \n",
       "2022-12-23  238.134  238.273  233.358  21206982  Dec 23, 22   0.54   \n",
       "2022-12-27  236.368  238.333  235.241  16688648  Dec 27, 22  -1.77   \n",
       "2022-12-28  233.944  239.121  233.585  17457104  Dec 28, 22  -2.43   \n",
       "2022-12-29  240.408  241.316  235.061  19770693  Dec 29, 22   6.48   \n",
       "2022-12-30  239.221  239.361  236.069  21938472  Dec 30, 22  -1.19   \n",
       "\n",
       "           changePercent  \n",
       "2015-01-02        0.0067  \n",
       "2015-01-05       -0.0093  \n",
       "2015-01-06       -0.0146  \n",
       "2015-01-07        0.0127  \n",
       "2015-01-08        0.0294  \n",
       "...                  ...  \n",
       "2022-12-23        0.0023  \n",
       "2022-12-27       -0.0074  \n",
       "2022-12-28       -0.0103  \n",
       "2022-12-29        0.0276  \n",
       "2022-12-30       -0.0049  \n",
       "\n",
       "[2013 rows x 26 columns]"
      ]
     },
     "execution_count": 9,
     "metadata": {},
     "output_type": "execute_result"
    }
   ],
   "source": [
    "MSFT"
   ]
  },
  {
   "cell_type": "markdown",
   "id": "5fef18b0",
   "metadata": {},
   "source": [
    "### Log Returns\n",
    "\n",
    "$$\n",
    "ln(\\frac{P_t}{P_{t-1}})\n",
    "$$"
   ]
  },
  {
   "cell_type": "code",
   "execution_count": 10,
   "id": "5fbc1034",
   "metadata": {},
   "outputs": [
    {
     "name": "stdout",
     "output_type": "stream",
     "text": [
      "2015-01-02         NaN\n",
      "2015-01-05   -0.009346\n",
      "2015-01-06   -0.014678\n",
      "2015-01-07    0.012625\n",
      "2015-01-08    0.028994\n",
      "                ...   \n",
      "2022-12-23    0.002265\n",
      "2022-12-27   -0.007442\n",
      "2022-12-28   -0.010308\n",
      "2022-12-29    0.027255\n",
      "2022-12-30   -0.004950\n",
      "Name: log_return, Length: 2013, dtype: float64\n"
     ]
    }
   ],
   "source": [
    "MSFT['log_return'] = np.log(MSFT['close'].astype('float64') / MSFT['close'].astype('float64').shift(1))\n",
    "print (MSFT['log_return'])"
   ]
  },
  {
   "cell_type": "code",
   "execution_count": 11,
   "id": "287d1a0a",
   "metadata": {},
   "outputs": [
    {
     "data": {
      "image/png": "[encoded data removed]",
      "text/plain": [
       "<Figure size 640x480 with 1 Axes>"
      ]
     },
     "metadata": {},
     "output_type": "display_data"
    }
   ],
   "source": [
    "MSFT['log_return'].plot()\n",
    "plt.show()"
   ]
  },
  {
   "cell_type": "markdown",
   "id": "b0b22ed0",
   "metadata": {},
   "source": [
    "### Calculate the average daily return"
   ]
  },
  {
   "cell_type": "code",
   "execution_count": 12,
   "id": "defd0d26",
   "metadata": {},
   "outputs": [
    {
     "data": {
      "text/plain": [
       "0.0008125549231349003"
      ]
     },
     "execution_count": 12,
     "metadata": {},
     "output_type": "execute_result"
    }
   ],
   "source": [
    "log_return_d = MSFT['log_return'].mean()\n",
    "log_return_d"
   ]
  },
  {
   "cell_type": "markdown",
   "id": "42f8cd1d",
   "metadata": {},
   "source": [
    "### Estimate the average annual return."
   ]
  },
  {
   "cell_type": "code",
   "execution_count": 13,
   "id": "e52e7abf",
   "metadata": {},
   "outputs": [
    {
     "data": {
      "text/plain": [
       "0.20313873078372507"
      ]
     },
     "execution_count": 13,
     "metadata": {},
     "output_type": "execute_result"
    }
   ],
   "source": [
    "log_return_a = MSFT['log_return'].mean() * 250\n",
    "log_return_a"
   ]
  },
  {
   "cell_type": "markdown",
   "id": "4988a69c",
   "metadata": {},
   "source": [
    "Print the percentage version of the result as a float with 2 digits after the decimal point."
   ]
  },
  {
   "cell_type": "code",
   "execution_count": 14,
   "id": "d7f51c02",
   "metadata": {},
   "outputs": [
    {
     "name": "stdout",
     "output_type": "stream",
     "text": [
      "20.314 %\n"
     ]
    }
   ],
   "source": [
    "print (str(round(log_return_a, 5) * 100) + ' %')"
   ]
  },
  {
   "cell_type": "code",
   "execution_count": null,
   "id": "0ae70a58",
   "metadata": {},
   "outputs": [],
   "source": []
  }
 ],
 "metadata": {
  "kernelspec": {
   "display_name": "Python 3 (ipykernel)",
   "language": "python",
   "name": "python3"
  },
  "language_info": {
   "codemirror_mode": {
    "name": "ipython",
    "version": 3
   },
   "file_extension": ".py",
   "mimetype": "text/x-python",
   "name": "python",
   "nbconvert_exporter": "python",
   "pygments_lexer": "ipython3",
   "version": "3.9.13"
  }
 },
 "nbformat": 4,
 "nbformat_minor": 5
}
